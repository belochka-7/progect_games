{
 "cells": [
  {
   "cell_type": "markdown",
   "metadata": {},
   "source": [
    "# Исследование закономерностей, определяющих успешность игры."
   ]
  },
  {
   "cell_type": "markdown",
   "metadata": {},
   "source": [
    "Вы работаете в интернет-магазине «Стримчик», который продаёт по всему миру компьютерные игры. Из открытых источников доступны исторические данные о продажах игр, оценки пользователей и экспертов, жанры и платформы (например, Xbox или PlayStation). "
   ]
  },
  {
   "cell_type": "markdown",
   "metadata": {},
   "source": [
    "# Цель исследования:\n",
    "выявить определяющие успешность игры закономерности. Это позволит сделать ставку на потенциально популярный продукт и спланировать рекламные кампании."
   ]
  },
  {
   "cell_type": "markdown",
   "metadata": {},
   "source": [
    "  # Ход исследования:\n",
    "  - обзор данных\n",
    "  - предобработка данных\n",
    "  - исследовательский анализ \n",
    "  - составления портрета пользователя каждого региона\n",
    "  - проверка двух гипотез\n",
    "  - общий вывод исследования"
   ]
  },
  {
   "cell_type": "markdown",
   "metadata": {},
   "source": [
    "### Откроем файл с данными и изучим общую информацию"
   ]
  },
  {
   "cell_type": "code",
   "execution_count": 1,
   "metadata": {},
   "outputs": [],
   "source": [
    "import pandas as pd\n",
    "import matplotlib.pyplot as plt\n",
    "import seaborn as sns\n",
    "from IPython.display import display"
   ]
  },
  {
   "cell_type": "code",
   "execution_count": 2,
   "metadata": {},
   "outputs": [
    {
     "data": {
      "text/html": [
       "<div>\n",
       "<style scoped>\n",
       "    .dataframe tbody tr th:only-of-type {\n",
       "        vertical-align: middle;\n",
       "    }\n",
       "\n",
       "    .dataframe tbody tr th {\n",
       "        vertical-align: top;\n",
       "    }\n",
       "\n",
       "    .dataframe thead th {\n",
       "        text-align: right;\n",
       "    }\n",
       "</style>\n",
       "<table border=\"1\" class=\"dataframe\">\n",
       "  <thead>\n",
       "    <tr style=\"text-align: right;\">\n",
       "      <th></th>\n",
       "      <th>Name</th>\n",
       "      <th>Platform</th>\n",
       "      <th>Year_of_Release</th>\n",
       "      <th>Genre</th>\n",
       "      <th>NA_sales</th>\n",
       "      <th>EU_sales</th>\n",
       "      <th>JP_sales</th>\n",
       "      <th>Other_sales</th>\n",
       "      <th>Critic_Score</th>\n",
       "      <th>User_Score</th>\n",
       "      <th>Rating</th>\n",
       "    </tr>\n",
       "  </thead>\n",
       "  <tbody>\n",
       "    <tr>\n",
       "      <th>0</th>\n",
       "      <td>Wii Sports</td>\n",
       "      <td>Wii</td>\n",
       "      <td>2006.0</td>\n",
       "      <td>Sports</td>\n",
       "      <td>41.36</td>\n",
       "      <td>28.96</td>\n",
       "      <td>3.77</td>\n",
       "      <td>8.45</td>\n",
       "      <td>76.0</td>\n",
       "      <td>8</td>\n",
       "      <td>E</td>\n",
       "    </tr>\n",
       "    <tr>\n",
       "      <th>1</th>\n",
       "      <td>Super Mario Bros.</td>\n",
       "      <td>NES</td>\n",
       "      <td>1985.0</td>\n",
       "      <td>Platform</td>\n",
       "      <td>29.08</td>\n",
       "      <td>3.58</td>\n",
       "      <td>6.81</td>\n",
       "      <td>0.77</td>\n",
       "      <td>NaN</td>\n",
       "      <td>NaN</td>\n",
       "      <td>NaN</td>\n",
       "    </tr>\n",
       "    <tr>\n",
       "      <th>2</th>\n",
       "      <td>Mario Kart Wii</td>\n",
       "      <td>Wii</td>\n",
       "      <td>2008.0</td>\n",
       "      <td>Racing</td>\n",
       "      <td>15.68</td>\n",
       "      <td>12.76</td>\n",
       "      <td>3.79</td>\n",
       "      <td>3.29</td>\n",
       "      <td>82.0</td>\n",
       "      <td>8.3</td>\n",
       "      <td>E</td>\n",
       "    </tr>\n",
       "    <tr>\n",
       "      <th>3</th>\n",
       "      <td>Wii Sports Resort</td>\n",
       "      <td>Wii</td>\n",
       "      <td>2009.0</td>\n",
       "      <td>Sports</td>\n",
       "      <td>15.61</td>\n",
       "      <td>10.93</td>\n",
       "      <td>3.28</td>\n",
       "      <td>2.95</td>\n",
       "      <td>80.0</td>\n",
       "      <td>8</td>\n",
       "      <td>E</td>\n",
       "    </tr>\n",
       "    <tr>\n",
       "      <th>4</th>\n",
       "      <td>Pokemon Red/Pokemon Blue</td>\n",
       "      <td>GB</td>\n",
       "      <td>1996.0</td>\n",
       "      <td>Role-Playing</td>\n",
       "      <td>11.27</td>\n",
       "      <td>8.89</td>\n",
       "      <td>10.22</td>\n",
       "      <td>1.00</td>\n",
       "      <td>NaN</td>\n",
       "      <td>NaN</td>\n",
       "      <td>NaN</td>\n",
       "    </tr>\n",
       "    <tr>\n",
       "      <th>5</th>\n",
       "      <td>Tetris</td>\n",
       "      <td>GB</td>\n",
       "      <td>1989.0</td>\n",
       "      <td>Puzzle</td>\n",
       "      <td>23.20</td>\n",
       "      <td>2.26</td>\n",
       "      <td>4.22</td>\n",
       "      <td>0.58</td>\n",
       "      <td>NaN</td>\n",
       "      <td>NaN</td>\n",
       "      <td>NaN</td>\n",
       "    </tr>\n",
       "    <tr>\n",
       "      <th>6</th>\n",
       "      <td>New Super Mario Bros.</td>\n",
       "      <td>DS</td>\n",
       "      <td>2006.0</td>\n",
       "      <td>Platform</td>\n",
       "      <td>11.28</td>\n",
       "      <td>9.14</td>\n",
       "      <td>6.50</td>\n",
       "      <td>2.88</td>\n",
       "      <td>89.0</td>\n",
       "      <td>8.5</td>\n",
       "      <td>E</td>\n",
       "    </tr>\n",
       "    <tr>\n",
       "      <th>7</th>\n",
       "      <td>Wii Play</td>\n",
       "      <td>Wii</td>\n",
       "      <td>2006.0</td>\n",
       "      <td>Misc</td>\n",
       "      <td>13.96</td>\n",
       "      <td>9.18</td>\n",
       "      <td>2.93</td>\n",
       "      <td>2.84</td>\n",
       "      <td>58.0</td>\n",
       "      <td>6.6</td>\n",
       "      <td>E</td>\n",
       "    </tr>\n",
       "    <tr>\n",
       "      <th>8</th>\n",
       "      <td>New Super Mario Bros. Wii</td>\n",
       "      <td>Wii</td>\n",
       "      <td>2009.0</td>\n",
       "      <td>Platform</td>\n",
       "      <td>14.44</td>\n",
       "      <td>6.94</td>\n",
       "      <td>4.70</td>\n",
       "      <td>2.24</td>\n",
       "      <td>87.0</td>\n",
       "      <td>8.4</td>\n",
       "      <td>E</td>\n",
       "    </tr>\n",
       "    <tr>\n",
       "      <th>9</th>\n",
       "      <td>Duck Hunt</td>\n",
       "      <td>NES</td>\n",
       "      <td>1984.0</td>\n",
       "      <td>Shooter</td>\n",
       "      <td>26.93</td>\n",
       "      <td>0.63</td>\n",
       "      <td>0.28</td>\n",
       "      <td>0.47</td>\n",
       "      <td>NaN</td>\n",
       "      <td>NaN</td>\n",
       "      <td>NaN</td>\n",
       "    </tr>\n",
       "  </tbody>\n",
       "</table>\n",
       "</div>"
      ],
      "text/plain": [
       "                        Name Platform  Year_of_Release         Genre  \\\n",
       "0                 Wii Sports      Wii           2006.0        Sports   \n",
       "1          Super Mario Bros.      NES           1985.0      Platform   \n",
       "2             Mario Kart Wii      Wii           2008.0        Racing   \n",
       "3          Wii Sports Resort      Wii           2009.0        Sports   \n",
       "4   Pokemon Red/Pokemon Blue       GB           1996.0  Role-Playing   \n",
       "5                     Tetris       GB           1989.0        Puzzle   \n",
       "6      New Super Mario Bros.       DS           2006.0      Platform   \n",
       "7                   Wii Play      Wii           2006.0          Misc   \n",
       "8  New Super Mario Bros. Wii      Wii           2009.0      Platform   \n",
       "9                  Duck Hunt      NES           1984.0       Shooter   \n",
       "\n",
       "   NA_sales  EU_sales  JP_sales  Other_sales  Critic_Score User_Score Rating  \n",
       "0     41.36     28.96      3.77         8.45          76.0          8      E  \n",
       "1     29.08      3.58      6.81         0.77           NaN        NaN    NaN  \n",
       "2     15.68     12.76      3.79         3.29          82.0        8.3      E  \n",
       "3     15.61     10.93      3.28         2.95          80.0          8      E  \n",
       "4     11.27      8.89     10.22         1.00           NaN        NaN    NaN  \n",
       "5     23.20      2.26      4.22         0.58           NaN        NaN    NaN  \n",
       "6     11.28      9.14      6.50         2.88          89.0        8.5      E  \n",
       "7     13.96      9.18      2.93         2.84          58.0        6.6      E  \n",
       "8     14.44      6.94      4.70         2.24          87.0        8.4      E  \n",
       "9     26.93      0.63      0.28         0.47           NaN        NaN    NaN  "
      ]
     },
     "execution_count": 2,
     "metadata": {},
     "output_type": "execute_result"
    }
   ],
   "source": [
    "data = pd.read_csv('/datasets/games.csv')\n",
    "data.head(10)"
   ]
  },
  {
   "cell_type": "code",
   "execution_count": 3,
   "metadata": {},
   "outputs": [
    {
     "name": "stdout",
     "output_type": "stream",
     "text": [
      "<class 'pandas.core.frame.DataFrame'>\n",
      "RangeIndex: 16715 entries, 0 to 16714\n",
      "Data columns (total 11 columns):\n",
      " #   Column           Non-Null Count  Dtype  \n",
      "---  ------           --------------  -----  \n",
      " 0   Name             16713 non-null  object \n",
      " 1   Platform         16715 non-null  object \n",
      " 2   Year_of_Release  16446 non-null  float64\n",
      " 3   Genre            16713 non-null  object \n",
      " 4   NA_sales         16715 non-null  float64\n",
      " 5   EU_sales         16715 non-null  float64\n",
      " 6   JP_sales         16715 non-null  float64\n",
      " 7   Other_sales      16715 non-null  float64\n",
      " 8   Critic_Score     8137 non-null   float64\n",
      " 9   User_Score       10014 non-null  object \n",
      " 10  Rating           9949 non-null   object \n",
      "dtypes: float64(6), object(5)\n",
      "memory usage: 1.4+ MB\n"
     ]
    }
   ],
   "source": [
    "data.info()"
   ]
  },
  {
   "cell_type": "code",
   "execution_count": 4,
   "metadata": {},
   "outputs": [
    {
     "data": {
      "text/html": [
       "<div>\n",
       "<style scoped>\n",
       "    .dataframe tbody tr th:only-of-type {\n",
       "        vertical-align: middle;\n",
       "    }\n",
       "\n",
       "    .dataframe tbody tr th {\n",
       "        vertical-align: top;\n",
       "    }\n",
       "\n",
       "    .dataframe thead th {\n",
       "        text-align: right;\n",
       "    }\n",
       "</style>\n",
       "<table border=\"1\" class=\"dataframe\">\n",
       "  <thead>\n",
       "    <tr style=\"text-align: right;\">\n",
       "      <th></th>\n",
       "      <th>count</th>\n",
       "      <th>mean</th>\n",
       "      <th>std</th>\n",
       "      <th>min</th>\n",
       "      <th>25%</th>\n",
       "      <th>50%</th>\n",
       "      <th>75%</th>\n",
       "      <th>max</th>\n",
       "    </tr>\n",
       "  </thead>\n",
       "  <tbody>\n",
       "    <tr>\n",
       "      <th>Year_of_Release</th>\n",
       "      <td>16446.0</td>\n",
       "      <td>2006.484616</td>\n",
       "      <td>5.877050</td>\n",
       "      <td>1980.0</td>\n",
       "      <td>2003.0</td>\n",
       "      <td>2007.00</td>\n",
       "      <td>2010.00</td>\n",
       "      <td>2016.00</td>\n",
       "    </tr>\n",
       "    <tr>\n",
       "      <th>NA_sales</th>\n",
       "      <td>16715.0</td>\n",
       "      <td>0.263377</td>\n",
       "      <td>0.813604</td>\n",
       "      <td>0.0</td>\n",
       "      <td>0.0</td>\n",
       "      <td>0.08</td>\n",
       "      <td>0.24</td>\n",
       "      <td>41.36</td>\n",
       "    </tr>\n",
       "    <tr>\n",
       "      <th>EU_sales</th>\n",
       "      <td>16715.0</td>\n",
       "      <td>0.145060</td>\n",
       "      <td>0.503339</td>\n",
       "      <td>0.0</td>\n",
       "      <td>0.0</td>\n",
       "      <td>0.02</td>\n",
       "      <td>0.11</td>\n",
       "      <td>28.96</td>\n",
       "    </tr>\n",
       "    <tr>\n",
       "      <th>JP_sales</th>\n",
       "      <td>16715.0</td>\n",
       "      <td>0.077617</td>\n",
       "      <td>0.308853</td>\n",
       "      <td>0.0</td>\n",
       "      <td>0.0</td>\n",
       "      <td>0.00</td>\n",
       "      <td>0.04</td>\n",
       "      <td>10.22</td>\n",
       "    </tr>\n",
       "    <tr>\n",
       "      <th>Other_sales</th>\n",
       "      <td>16715.0</td>\n",
       "      <td>0.047342</td>\n",
       "      <td>0.186731</td>\n",
       "      <td>0.0</td>\n",
       "      <td>0.0</td>\n",
       "      <td>0.01</td>\n",
       "      <td>0.03</td>\n",
       "      <td>10.57</td>\n",
       "    </tr>\n",
       "    <tr>\n",
       "      <th>Critic_Score</th>\n",
       "      <td>8137.0</td>\n",
       "      <td>68.967679</td>\n",
       "      <td>13.938165</td>\n",
       "      <td>13.0</td>\n",
       "      <td>60.0</td>\n",
       "      <td>71.00</td>\n",
       "      <td>79.00</td>\n",
       "      <td>98.00</td>\n",
       "    </tr>\n",
       "  </tbody>\n",
       "</table>\n",
       "</div>"
      ],
      "text/plain": [
       "                   count         mean        std     min     25%      50%  \\\n",
       "Year_of_Release  16446.0  2006.484616   5.877050  1980.0  2003.0  2007.00   \n",
       "NA_sales         16715.0     0.263377   0.813604     0.0     0.0     0.08   \n",
       "EU_sales         16715.0     0.145060   0.503339     0.0     0.0     0.02   \n",
       "JP_sales         16715.0     0.077617   0.308853     0.0     0.0     0.00   \n",
       "Other_sales      16715.0     0.047342   0.186731     0.0     0.0     0.01   \n",
       "Critic_Score      8137.0    68.967679  13.938165    13.0    60.0    71.00   \n",
       "\n",
       "                     75%      max  \n",
       "Year_of_Release  2010.00  2016.00  \n",
       "NA_sales            0.24    41.36  \n",
       "EU_sales            0.11    28.96  \n",
       "JP_sales            0.04    10.22  \n",
       "Other_sales         0.03    10.57  \n",
       "Critic_Score       79.00    98.00  "
      ]
     },
     "execution_count": 4,
     "metadata": {},
     "output_type": "execute_result"
    }
   ],
   "source": [
    "data.describe().T"
   ]
  },
  {
   "cell_type": "code",
   "execution_count": 5,
   "metadata": {},
   "outputs": [
    {
     "data": {
      "text/plain": [
       "16715"
      ]
     },
     "execution_count": 5,
     "metadata": {},
     "output_type": "execute_result"
    }
   ],
   "source": [
    "data.shape[0]"
   ]
  },
  {
   "cell_type": "markdown",
   "metadata": {},
   "source": [
    "На этапе обзора данных мы обнаружили пропуски в столбцах: rating, user_score, critic_score, year_of_release, genre, name.\n",
    "Также нам необходимо привести названия столбцов к змеиному регистру и обнаружено некоторое несоответствие типа данных столбца и содержащейся в нем информации, разберемся с этим на этапе предобработки."
   ]
  },
  {
   "cell_type": "markdown",
   "metadata": {},
   "source": [
    "### Предобработка данных"
   ]
  },
  {
   "cell_type": "markdown",
   "metadata": {},
   "source": [
    "Приведем названия столбцов к должному виду:"
   ]
  },
  {
   "cell_type": "code",
   "execution_count": 6,
   "metadata": {},
   "outputs": [],
   "source": [
    "data.columns = data.columns.str.lower()"
   ]
  },
  {
   "cell_type": "markdown",
   "metadata": {},
   "source": [
    "Поработаем с пропусками:"
   ]
  },
  {
   "cell_type": "code",
   "execution_count": 7,
   "metadata": {},
   "outputs": [
    {
     "name": "stdout",
     "output_type": "stream",
     "text": [
      "      name platform  year_of_release genre  na_sales  eu_sales  jp_sales  \\\n",
      "659    NaN      GEN           1993.0   NaN      1.78      0.53      0.00   \n",
      "14244  NaN      GEN           1993.0   NaN      0.00      0.00      0.03   \n",
      "\n",
      "       other_sales  critic_score user_score rating  \n",
      "659           0.08           NaN        NaN    NaN  \n",
      "14244         0.00           NaN        NaN    NaN  \n"
     ]
    }
   ],
   "source": [
    "print(data.loc[data['name'].isna()])"
   ]
  },
  {
   "cell_type": "markdown",
   "metadata": {},
   "source": [
    "Нам не нужны игры, о которых нет информации ни по дате выпуска, ни по жанру, поэтому удалим эти 2 строки."
   ]
  },
  {
   "cell_type": "code",
   "execution_count": 8,
   "metadata": {},
   "outputs": [],
   "source": [
    "data = data.dropna(subset=['name'])"
   ]
  },
  {
   "cell_type": "code",
   "execution_count": 9,
   "metadata": {},
   "outputs": [
    {
     "data": {
      "text/plain": [
       "16713"
      ]
     },
     "execution_count": 9,
     "metadata": {},
     "output_type": "execute_result"
    }
   ],
   "source": [
    "#проверим\n",
    "data.shape[0]"
   ]
  },
  {
   "cell_type": "code",
   "execution_count": 10,
   "metadata": {},
   "outputs": [
    {
     "name": "stdout",
     "output_type": "stream",
     "text": [
      "<class 'pandas.core.frame.DataFrame'>\n",
      "Int64Index: 16713 entries, 0 to 16714\n",
      "Data columns (total 11 columns):\n",
      " #   Column           Non-Null Count  Dtype  \n",
      "---  ------           --------------  -----  \n",
      " 0   name             16713 non-null  object \n",
      " 1   platform         16713 non-null  object \n",
      " 2   year_of_release  16444 non-null  float64\n",
      " 3   genre            16713 non-null  object \n",
      " 4   na_sales         16713 non-null  float64\n",
      " 5   eu_sales         16713 non-null  float64\n",
      " 6   jp_sales         16713 non-null  float64\n",
      " 7   other_sales      16713 non-null  float64\n",
      " 8   critic_score     8137 non-null   float64\n",
      " 9   user_score       10014 non-null  object \n",
      " 10  rating           9949 non-null   object \n",
      "dtypes: float64(6), object(5)\n",
      "memory usage: 1.5+ MB\n"
     ]
    }
   ],
   "source": [
    "data.info()"
   ]
  },
  {
   "cell_type": "markdown",
   "metadata": {},
   "source": [
    "Пропуски в столбце year_of_release заменим на значение \"3000\", чтобы было понятно, что это выброс и при этом мы могли работать с этим стобцом."
   ]
  },
  {
   "cell_type": "code",
   "execution_count": 11,
   "metadata": {},
   "outputs": [],
   "source": [
    "data['year_of_release'] = data['year_of_release'].fillna(3000)"
   ]
  },
  {
   "cell_type": "markdown",
   "metadata": {},
   "source": [
    "Аналогично поступим с пропусками в столбцах 'user_score' и 'critic_score', иначе есть вероятность, что мы не сможем проверить гипотезы, так как будет вылезать Nan."
   ]
  },
  {
   "cell_type": "code",
   "execution_count": 12,
   "metadata": {},
   "outputs": [],
   "source": [
    "data.loc[data['user_score'].isna(), 'user_score'] = 3000\n",
    "data.loc[data['critic_score'].isna(), 'critic_score'] = 3000"
   ]
  },
  {
   "cell_type": "code",
   "execution_count": 13,
   "metadata": {},
   "outputs": [
    {
     "data": {
      "text/plain": [
       "3000    6699\n",
       "tbd     2424\n",
       "7.8      324\n",
       "8        290\n",
       "8.2      282\n",
       "        ... \n",
       "1.5        2\n",
       "0.9        2\n",
       "1.9        2\n",
       "9.7        1\n",
       "0          1\n",
       "Name: user_score, Length: 97, dtype: int64"
      ]
     },
     "execution_count": 13,
     "metadata": {},
     "output_type": "execute_result"
    }
   ],
   "source": [
    "data['user_score'].value_counts()"
   ]
  },
  {
   "cell_type": "markdown",
   "metadata": {},
   "source": [
    "tbd - to be determined (рейтинг будет определен позднее). Сделаем то же самое и заменим эти значения на выбросы."
   ]
  },
  {
   "cell_type": "code",
   "execution_count": 14,
   "metadata": {},
   "outputs": [],
   "source": [
    "data.loc[data['user_score'] == 'tbd', 'user_score'] = 3000"
   ]
  },
  {
   "cell_type": "markdown",
   "metadata": {},
   "source": [
    "И сразу приведем столбец к int-овому значению."
   ]
  },
  {
   "cell_type": "code",
   "execution_count": 15,
   "metadata": {},
   "outputs": [],
   "source": [
    "data['year_of_release'] = data['year_of_release'].astype('int')\n"
   ]
  },
  {
   "cell_type": "markdown",
   "metadata": {},
   "source": [
    "В стобце жанра пропуски заменим на \"неизвестный\" жанр."
   ]
  },
  {
   "cell_type": "code",
   "execution_count": 16,
   "metadata": {},
   "outputs": [],
   "source": [
    "data['genre'] = data['genre'].fillna('unknown')"
   ]
  },
  {
   "cell_type": "code",
   "execution_count": 17,
   "metadata": {},
   "outputs": [],
   "source": [
    "data['critic_score'] = data['critic_score'].astype('float')\n",
    "data['user_score'] = data['user_score'].astype('float')"
   ]
  },
  {
   "cell_type": "code",
   "execution_count": 18,
   "metadata": {},
   "outputs": [],
   "source": [
    "data.loc[data['rating'].isna(), 'rating'] = 'unknown'"
   ]
  },
  {
   "cell_type": "code",
   "execution_count": 19,
   "metadata": {},
   "outputs": [
    {
     "name": "stdout",
     "output_type": "stream",
     "text": [
      "<class 'pandas.core.frame.DataFrame'>\n",
      "Int64Index: 16713 entries, 0 to 16714\n",
      "Data columns (total 11 columns):\n",
      " #   Column           Non-Null Count  Dtype  \n",
      "---  ------           --------------  -----  \n",
      " 0   name             16713 non-null  object \n",
      " 1   platform         16713 non-null  object \n",
      " 2   year_of_release  16713 non-null  int64  \n",
      " 3   genre            16713 non-null  object \n",
      " 4   na_sales         16713 non-null  float64\n",
      " 5   eu_sales         16713 non-null  float64\n",
      " 6   jp_sales         16713 non-null  float64\n",
      " 7   other_sales      16713 non-null  float64\n",
      " 8   critic_score     16713 non-null  float64\n",
      " 9   user_score       16713 non-null  float64\n",
      " 10  rating           16713 non-null  object \n",
      "dtypes: float64(6), int64(1), object(4)\n",
      "memory usage: 1.5+ MB\n"
     ]
    }
   ],
   "source": [
    "#проверим нашу предобработку\n",
    "data.info()"
   ]
  },
  {
   "cell_type": "code",
   "execution_count": 20,
   "metadata": {},
   "outputs": [],
   "source": [
    "#посчитаем продажи для всего мира\n",
    "data['total_cases'] =  data['na_sales'] + data['eu_sales'] + data['jp_sales'] + data['other_sales']"
   ]
  },
  {
   "cell_type": "code",
   "execution_count": 21,
   "metadata": {},
   "outputs": [
    {
     "data": {
      "text/html": [
       "<div>\n",
       "<style scoped>\n",
       "    .dataframe tbody tr th:only-of-type {\n",
       "        vertical-align: middle;\n",
       "    }\n",
       "\n",
       "    .dataframe tbody tr th {\n",
       "        vertical-align: top;\n",
       "    }\n",
       "\n",
       "    .dataframe thead th {\n",
       "        text-align: right;\n",
       "    }\n",
       "</style>\n",
       "<table border=\"1\" class=\"dataframe\">\n",
       "  <thead>\n",
       "    <tr style=\"text-align: right;\">\n",
       "      <th></th>\n",
       "      <th>name</th>\n",
       "      <th>platform</th>\n",
       "      <th>year_of_release</th>\n",
       "      <th>genre</th>\n",
       "      <th>na_sales</th>\n",
       "      <th>eu_sales</th>\n",
       "      <th>jp_sales</th>\n",
       "      <th>other_sales</th>\n",
       "      <th>critic_score</th>\n",
       "      <th>user_score</th>\n",
       "      <th>rating</th>\n",
       "      <th>total_cases</th>\n",
       "    </tr>\n",
       "  </thead>\n",
       "  <tbody>\n",
       "    <tr>\n",
       "      <th>0</th>\n",
       "      <td>Wii Sports</td>\n",
       "      <td>Wii</td>\n",
       "      <td>2006</td>\n",
       "      <td>Sports</td>\n",
       "      <td>41.36</td>\n",
       "      <td>28.96</td>\n",
       "      <td>3.77</td>\n",
       "      <td>8.45</td>\n",
       "      <td>76.0</td>\n",
       "      <td>8.0</td>\n",
       "      <td>E</td>\n",
       "      <td>82.54</td>\n",
       "    </tr>\n",
       "    <tr>\n",
       "      <th>1</th>\n",
       "      <td>Super Mario Bros.</td>\n",
       "      <td>NES</td>\n",
       "      <td>1985</td>\n",
       "      <td>Platform</td>\n",
       "      <td>29.08</td>\n",
       "      <td>3.58</td>\n",
       "      <td>6.81</td>\n",
       "      <td>0.77</td>\n",
       "      <td>3000.0</td>\n",
       "      <td>3000.0</td>\n",
       "      <td>unknown</td>\n",
       "      <td>40.24</td>\n",
       "    </tr>\n",
       "    <tr>\n",
       "      <th>2</th>\n",
       "      <td>Mario Kart Wii</td>\n",
       "      <td>Wii</td>\n",
       "      <td>2008</td>\n",
       "      <td>Racing</td>\n",
       "      <td>15.68</td>\n",
       "      <td>12.76</td>\n",
       "      <td>3.79</td>\n",
       "      <td>3.29</td>\n",
       "      <td>82.0</td>\n",
       "      <td>8.3</td>\n",
       "      <td>E</td>\n",
       "      <td>35.52</td>\n",
       "    </tr>\n",
       "    <tr>\n",
       "      <th>3</th>\n",
       "      <td>Wii Sports Resort</td>\n",
       "      <td>Wii</td>\n",
       "      <td>2009</td>\n",
       "      <td>Sports</td>\n",
       "      <td>15.61</td>\n",
       "      <td>10.93</td>\n",
       "      <td>3.28</td>\n",
       "      <td>2.95</td>\n",
       "      <td>80.0</td>\n",
       "      <td>8.0</td>\n",
       "      <td>E</td>\n",
       "      <td>32.77</td>\n",
       "    </tr>\n",
       "    <tr>\n",
       "      <th>4</th>\n",
       "      <td>Pokemon Red/Pokemon Blue</td>\n",
       "      <td>GB</td>\n",
       "      <td>1996</td>\n",
       "      <td>Role-Playing</td>\n",
       "      <td>11.27</td>\n",
       "      <td>8.89</td>\n",
       "      <td>10.22</td>\n",
       "      <td>1.00</td>\n",
       "      <td>3000.0</td>\n",
       "      <td>3000.0</td>\n",
       "      <td>unknown</td>\n",
       "      <td>31.38</td>\n",
       "    </tr>\n",
       "  </tbody>\n",
       "</table>\n",
       "</div>"
      ],
      "text/plain": [
       "                       name platform  year_of_release         genre  na_sales  \\\n",
       "0                Wii Sports      Wii             2006        Sports     41.36   \n",
       "1         Super Mario Bros.      NES             1985      Platform     29.08   \n",
       "2            Mario Kart Wii      Wii             2008        Racing     15.68   \n",
       "3         Wii Sports Resort      Wii             2009        Sports     15.61   \n",
       "4  Pokemon Red/Pokemon Blue       GB             1996  Role-Playing     11.27   \n",
       "\n",
       "   eu_sales  jp_sales  other_sales  critic_score  user_score   rating  \\\n",
       "0     28.96      3.77         8.45          76.0         8.0        E   \n",
       "1      3.58      6.81         0.77        3000.0      3000.0  unknown   \n",
       "2     12.76      3.79         3.29          82.0         8.3        E   \n",
       "3     10.93      3.28         2.95          80.0         8.0        E   \n",
       "4      8.89     10.22         1.00        3000.0      3000.0  unknown   \n",
       "\n",
       "   total_cases  \n",
       "0        82.54  \n",
       "1        40.24  \n",
       "2        35.52  \n",
       "3        32.77  \n",
       "4        31.38  "
      ]
     },
     "execution_count": 21,
     "metadata": {},
     "output_type": "execute_result"
    }
   ],
   "source": [
    "data.head()"
   ]
  },
  {
   "cell_type": "code",
   "execution_count": 22,
   "metadata": {},
   "outputs": [
    {
     "data": {
      "text/plain": [
       "0"
      ]
     },
     "execution_count": 22,
     "metadata": {},
     "output_type": "execute_result"
    }
   ],
   "source": [
    "#посмотрим на явные дупликаты\n",
    "data.duplicated().sum()"
   ]
  },
  {
   "cell_type": "markdown",
   "metadata": {},
   "source": [
    "# Вывод:\n",
    "мы выполнили предобрабутку данных, разобрались и заполнили все пропуски, подсчитали продажи по всему миру, явных дупликатов не обнаружено."
   ]
  },
  {
   "cell_type": "markdown",
   "metadata": {},
   "source": [
    "### Исследовательский анализ данных"
   ]
  },
  {
   "cell_type": "code",
   "execution_count": 23,
   "metadata": {},
   "outputs": [
    {
     "data": {
      "text/html": [
       "<div>\n",
       "<style scoped>\n",
       "    .dataframe tbody tr th:only-of-type {\n",
       "        vertical-align: middle;\n",
       "    }\n",
       "\n",
       "    .dataframe tbody tr th {\n",
       "        vertical-align: top;\n",
       "    }\n",
       "\n",
       "    .dataframe thead th {\n",
       "        text-align: right;\n",
       "    }\n",
       "</style>\n",
       "<table border=\"1\" class=\"dataframe\">\n",
       "  <thead>\n",
       "    <tr style=\"text-align: right;\">\n",
       "      <th></th>\n",
       "      <th>name</th>\n",
       "      <th>platform</th>\n",
       "      <th>year_of_release</th>\n",
       "      <th>genre</th>\n",
       "      <th>na_sales</th>\n",
       "      <th>eu_sales</th>\n",
       "      <th>jp_sales</th>\n",
       "      <th>other_sales</th>\n",
       "      <th>critic_score</th>\n",
       "      <th>user_score</th>\n",
       "      <th>rating</th>\n",
       "      <th>total_cases</th>\n",
       "    </tr>\n",
       "  </thead>\n",
       "  <tbody>\n",
       "    <tr>\n",
       "      <th>0</th>\n",
       "      <td>Wii Sports</td>\n",
       "      <td>Wii</td>\n",
       "      <td>2006</td>\n",
       "      <td>Sports</td>\n",
       "      <td>41.36</td>\n",
       "      <td>28.96</td>\n",
       "      <td>3.77</td>\n",
       "      <td>8.45</td>\n",
       "      <td>76.0</td>\n",
       "      <td>8.0</td>\n",
       "      <td>E</td>\n",
       "      <td>82.54</td>\n",
       "    </tr>\n",
       "    <tr>\n",
       "      <th>1</th>\n",
       "      <td>Super Mario Bros.</td>\n",
       "      <td>NES</td>\n",
       "      <td>1985</td>\n",
       "      <td>Platform</td>\n",
       "      <td>29.08</td>\n",
       "      <td>3.58</td>\n",
       "      <td>6.81</td>\n",
       "      <td>0.77</td>\n",
       "      <td>3000.0</td>\n",
       "      <td>3000.0</td>\n",
       "      <td>unknown</td>\n",
       "      <td>40.24</td>\n",
       "    </tr>\n",
       "    <tr>\n",
       "      <th>2</th>\n",
       "      <td>Mario Kart Wii</td>\n",
       "      <td>Wii</td>\n",
       "      <td>2008</td>\n",
       "      <td>Racing</td>\n",
       "      <td>15.68</td>\n",
       "      <td>12.76</td>\n",
       "      <td>3.79</td>\n",
       "      <td>3.29</td>\n",
       "      <td>82.0</td>\n",
       "      <td>8.3</td>\n",
       "      <td>E</td>\n",
       "      <td>35.52</td>\n",
       "    </tr>\n",
       "    <tr>\n",
       "      <th>3</th>\n",
       "      <td>Wii Sports Resort</td>\n",
       "      <td>Wii</td>\n",
       "      <td>2009</td>\n",
       "      <td>Sports</td>\n",
       "      <td>15.61</td>\n",
       "      <td>10.93</td>\n",
       "      <td>3.28</td>\n",
       "      <td>2.95</td>\n",
       "      <td>80.0</td>\n",
       "      <td>8.0</td>\n",
       "      <td>E</td>\n",
       "      <td>32.77</td>\n",
       "    </tr>\n",
       "    <tr>\n",
       "      <th>4</th>\n",
       "      <td>Pokemon Red/Pokemon Blue</td>\n",
       "      <td>GB</td>\n",
       "      <td>1996</td>\n",
       "      <td>Role-Playing</td>\n",
       "      <td>11.27</td>\n",
       "      <td>8.89</td>\n",
       "      <td>10.22</td>\n",
       "      <td>1.00</td>\n",
       "      <td>3000.0</td>\n",
       "      <td>3000.0</td>\n",
       "      <td>unknown</td>\n",
       "      <td>31.38</td>\n",
       "    </tr>\n",
       "  </tbody>\n",
       "</table>\n",
       "</div>"
      ],
      "text/plain": [
       "                       name platform  year_of_release         genre  na_sales  \\\n",
       "0                Wii Sports      Wii             2006        Sports     41.36   \n",
       "1         Super Mario Bros.      NES             1985      Platform     29.08   \n",
       "2            Mario Kart Wii      Wii             2008        Racing     15.68   \n",
       "3         Wii Sports Resort      Wii             2009        Sports     15.61   \n",
       "4  Pokemon Red/Pokemon Blue       GB             1996  Role-Playing     11.27   \n",
       "\n",
       "   eu_sales  jp_sales  other_sales  critic_score  user_score   rating  \\\n",
       "0     28.96      3.77         8.45          76.0         8.0        E   \n",
       "1      3.58      6.81         0.77        3000.0      3000.0  unknown   \n",
       "2     12.76      3.79         3.29          82.0         8.3        E   \n",
       "3     10.93      3.28         2.95          80.0         8.0        E   \n",
       "4      8.89     10.22         1.00        3000.0      3000.0  unknown   \n",
       "\n",
       "   total_cases  \n",
       "0        82.54  \n",
       "1        40.24  \n",
       "2        35.52  \n",
       "3        32.77  \n",
       "4        31.38  "
      ]
     },
     "execution_count": 23,
     "metadata": {},
     "output_type": "execute_result"
    }
   ],
   "source": [
    "data.head()"
   ]
  },
  {
   "cell_type": "markdown",
   "metadata": {},
   "source": [
    "Посмотритм, сколько игр выпускалось в разные годы"
   ]
  },
  {
   "cell_type": "code",
   "execution_count": 24,
   "metadata": {},
   "outputs": [
    {
     "data": {
      "text/plain": [
       "year_of_release\n",
       "1980       9\n",
       "1981      46\n",
       "1982      36\n",
       "1983      17\n",
       "1984      14\n",
       "1985      14\n",
       "1986      21\n",
       "1987      16\n",
       "1988      15\n",
       "1989      17\n",
       "1990      16\n",
       "1991      41\n",
       "1992      43\n",
       "1993      60\n",
       "1994     121\n",
       "1995     219\n",
       "1996     263\n",
       "1997     289\n",
       "1998     379\n",
       "1999     338\n",
       "2000     350\n",
       "2001     482\n",
       "2002     829\n",
       "2003     775\n",
       "2004     762\n",
       "2005     939\n",
       "2006    1006\n",
       "2007    1197\n",
       "2008    1427\n",
       "2009    1426\n",
       "2010    1255\n",
       "2011    1136\n",
       "2012     653\n",
       "2013     544\n",
       "2014     581\n",
       "2015     606\n",
       "2016     502\n",
       "3000     269\n",
       "Name: year_of_release, dtype: int64"
      ]
     },
     "execution_count": 24,
     "metadata": {},
     "output_type": "execute_result"
    }
   ],
   "source": [
    "data.groupby(by = 'year_of_release')['year_of_release'].count().sort_index(ascending=True)"
   ]
  },
  {
   "cell_type": "code",
   "execution_count": 25,
   "metadata": {},
   "outputs": [
    {
     "data": {
      "text/plain": [
       "<AxesSubplot:>"
      ]
     },
     "execution_count": 25,
     "metadata": {},
     "output_type": "execute_result"
    },
    {
     "data": {
      "image/png": "[encoded data removed]",
      "text/plain": [
       "<Figure size 432x288 with 1 Axes>"
      ]
     },
     "metadata": {
      "needs_background": "light"
     },
     "output_type": "display_data"
    }
   ],
   "source": [
    "data['year_of_release'].hist(range = (1980, 2016), bins= 25)"
   ]
  },
  {
   "cell_type": "markdown",
   "metadata": {},
   "source": [
    "Данные по всем периодам не важны.\n",
    "\n",
    "С 1980 годов по 1993 было мало компаний и мало охвата игроков, как и качественных оценок от критиков. Тенденция выпускать больше игр пришла вместе с технологическим прорывом: появлением персонального компьютера (PC) и технологий языков программирования.\n",
    "\n",
    "В 2002 году видно, что выпустилось много игр. Это значит в период с 1997 по 2002 появились игровые движки для создания реалистичных игр и новые средства программирования.\n",
    "\n",
    "Пик в 2009 это не только популярность к созданию компьютерных игр, но и распространенность компьютерных движков, некоторые из которых бесплатны к использованию на сегодняшний день.\n",
    "\n",
    "Спад индустри игр с 2012 по 2016 обусловлен экономическим кризисом и требованиям к игре. Крупные студии-разработчики как Blizzard создают игры по 10-15 лет."
   ]
  },
  {
   "cell_type": "code",
   "execution_count": 26,
   "metadata": {},
   "outputs": [],
   "source": [
    "platform =( \n",
    "data.pivot_table(index= 'platform', values='total_cases', aggfunc='sum')\n",
    ".sort_values(by='total_cases', ascending=False)\n",
    ")"
   ]
  },
  {
   "cell_type": "code",
   "execution_count": 27,
   "metadata": {},
   "outputs": [
    {
     "data": {
      "text/html": [
       "<div>\n",
       "<style scoped>\n",
       "    .dataframe tbody tr th:only-of-type {\n",
       "        vertical-align: middle;\n",
       "    }\n",
       "\n",
       "    .dataframe tbody tr th {\n",
       "        vertical-align: top;\n",
       "    }\n",
       "\n",
       "    .dataframe thead th {\n",
       "        text-align: right;\n",
       "    }\n",
       "</style>\n",
       "<table border=\"1\" class=\"dataframe\">\n",
       "  <thead>\n",
       "    <tr style=\"text-align: right;\">\n",
       "      <th></th>\n",
       "      <th>total_cases</th>\n",
       "    </tr>\n",
       "    <tr>\n",
       "      <th>platform</th>\n",
       "      <th></th>\n",
       "    </tr>\n",
       "  </thead>\n",
       "  <tbody>\n",
       "    <tr>\n",
       "      <th>PS2</th>\n",
       "      <td>1255.77</td>\n",
       "    </tr>\n",
       "    <tr>\n",
       "      <th>X360</th>\n",
       "      <td>971.42</td>\n",
       "    </tr>\n",
       "    <tr>\n",
       "      <th>PS3</th>\n",
       "      <td>939.65</td>\n",
       "    </tr>\n",
       "    <tr>\n",
       "      <th>Wii</th>\n",
       "      <td>907.51</td>\n",
       "    </tr>\n",
       "    <tr>\n",
       "      <th>DS</th>\n",
       "      <td>806.12</td>\n",
       "    </tr>\n",
       "    <tr>\n",
       "      <th>PS</th>\n",
       "      <td>730.86</td>\n",
       "    </tr>\n",
       "    <tr>\n",
       "      <th>GBA</th>\n",
       "      <td>317.85</td>\n",
       "    </tr>\n",
       "    <tr>\n",
       "      <th>PS4</th>\n",
       "      <td>314.14</td>\n",
       "    </tr>\n",
       "    <tr>\n",
       "      <th>PSP</th>\n",
       "      <td>294.05</td>\n",
       "    </tr>\n",
       "    <tr>\n",
       "      <th>PC</th>\n",
       "      <td>259.52</td>\n",
       "    </tr>\n",
       "    <tr>\n",
       "      <th>3DS</th>\n",
       "      <td>259.00</td>\n",
       "    </tr>\n",
       "    <tr>\n",
       "      <th>XB</th>\n",
       "      <td>257.74</td>\n",
       "    </tr>\n",
       "    <tr>\n",
       "      <th>GB</th>\n",
       "      <td>255.46</td>\n",
       "    </tr>\n",
       "    <tr>\n",
       "      <th>NES</th>\n",
       "      <td>251.05</td>\n",
       "    </tr>\n",
       "    <tr>\n",
       "      <th>N64</th>\n",
       "      <td>218.68</td>\n",
       "    </tr>\n",
       "    <tr>\n",
       "      <th>SNES</th>\n",
       "      <td>200.04</td>\n",
       "    </tr>\n",
       "    <tr>\n",
       "      <th>GC</th>\n",
       "      <td>198.93</td>\n",
       "    </tr>\n",
       "    <tr>\n",
       "      <th>XOne</th>\n",
       "      <td>159.32</td>\n",
       "    </tr>\n",
       "    <tr>\n",
       "      <th>2600</th>\n",
       "      <td>96.98</td>\n",
       "    </tr>\n",
       "    <tr>\n",
       "      <th>WiiU</th>\n",
       "      <td>82.19</td>\n",
       "    </tr>\n",
       "    <tr>\n",
       "      <th>PSV</th>\n",
       "      <td>54.07</td>\n",
       "    </tr>\n",
       "    <tr>\n",
       "      <th>SAT</th>\n",
       "      <td>33.59</td>\n",
       "    </tr>\n",
       "    <tr>\n",
       "      <th>GEN</th>\n",
       "      <td>28.35</td>\n",
       "    </tr>\n",
       "    <tr>\n",
       "      <th>DC</th>\n",
       "      <td>15.95</td>\n",
       "    </tr>\n",
       "    <tr>\n",
       "      <th>SCD</th>\n",
       "      <td>1.86</td>\n",
       "    </tr>\n",
       "    <tr>\n",
       "      <th>NG</th>\n",
       "      <td>1.44</td>\n",
       "    </tr>\n",
       "    <tr>\n",
       "      <th>WS</th>\n",
       "      <td>1.42</td>\n",
       "    </tr>\n",
       "    <tr>\n",
       "      <th>TG16</th>\n",
       "      <td>0.16</td>\n",
       "    </tr>\n",
       "    <tr>\n",
       "      <th>3DO</th>\n",
       "      <td>0.10</td>\n",
       "    </tr>\n",
       "    <tr>\n",
       "      <th>GG</th>\n",
       "      <td>0.04</td>\n",
       "    </tr>\n",
       "    <tr>\n",
       "      <th>PCFX</th>\n",
       "      <td>0.03</td>\n",
       "    </tr>\n",
       "  </tbody>\n",
       "</table>\n",
       "</div>"
      ],
      "text/plain": [
       "          total_cases\n",
       "platform             \n",
       "PS2           1255.77\n",
       "X360           971.42\n",
       "PS3            939.65\n",
       "Wii            907.51\n",
       "DS             806.12\n",
       "PS             730.86\n",
       "GBA            317.85\n",
       "PS4            314.14\n",
       "PSP            294.05\n",
       "PC             259.52\n",
       "3DS            259.00\n",
       "XB             257.74\n",
       "GB             255.46\n",
       "NES            251.05\n",
       "N64            218.68\n",
       "SNES           200.04\n",
       "GC             198.93\n",
       "XOne           159.32\n",
       "2600            96.98\n",
       "WiiU            82.19\n",
       "PSV             54.07\n",
       "SAT             33.59\n",
       "GEN             28.35\n",
       "DC              15.95\n",
       "SCD              1.86\n",
       "NG               1.44\n",
       "WS               1.42\n",
       "TG16             0.16\n",
       "3DO              0.10\n",
       "GG               0.04\n",
       "PCFX             0.03"
      ]
     },
     "execution_count": 27,
     "metadata": {},
     "output_type": "execute_result"
    }
   ],
   "source": [
    "platform"
   ]
  },
  {
   "cell_type": "code",
   "execution_count": 28,
   "metadata": {},
   "outputs": [
    {
     "data": {
      "image/png": "[encoded data removed]",
      "text/plain": [
       "<Figure size 1152x576 with 1 Axes>"
      ]
     },
     "metadata": {
      "needs_background": "light"
     },
     "output_type": "display_data"
    }
   ],
   "source": [
    "platform.plot(kind='bar',y='total_cases', figsize=(16,8), xlabel='platform', ylabel='всего продаж\"млн.копий\"', title='График продаж по консолям')\n",
    "plt.show()"
   ]
  },
  {
   "cell_type": "markdown",
   "metadata": {},
   "source": [
    "Рассмотрим топ-6 консолей по годам\n"
   ]
  },
  {
   "cell_type": "code",
   "execution_count": 29,
   "metadata": {},
   "outputs": [
    {
     "data": {
      "image/png": "[encoded data removed]",
      "text/plain": [
       "<Figure size 1152x720 with 1 Axes>"
      ]
     },
     "metadata": {
      "needs_background": "light"
     },
     "output_type": "display_data"
    },
    {
     "data": {
      "image/png": "[encoded data removed]",
      "text/plain": [
       "<Figure size 1152x720 with 1 Axes>"
      ]
     },
     "metadata": {
      "needs_background": "light"
     },
     "output_type": "display_data"
    },
    {
     "data": {
      "image/png": "[encoded data removed]",
      "text/plain": [
       "<Figure size 1152x720 with 1 Axes>"
      ]
     },
     "metadata": {
      "needs_background": "light"
     },
     "output_type": "display_data"
    },
    {
     "data": {
      "image/png": "[encoded data removed]",
      "text/plain": [
       "<Figure size 1152x720 with 1 Axes>"
      ]
     },
     "metadata": {
      "needs_background": "light"
     },
     "output_type": "display_data"
    },
    {
     "data": {
      "image/png": "[encoded data removed]",
      "text/plain": [
       "<Figure size 1152x720 with 1 Axes>"
      ]
     },
     "metadata": {
      "needs_background": "light"
     },
     "output_type": "display_data"
    },
    {
     "data": {
      "image/png": "[encoded data removed]",
      "text/plain": [
       "<Figure size 1152x720 with 1 Axes>"
      ]
     },
     "metadata": {
      "needs_background": "light"
     },
     "output_type": "display_data"
    }
   ],
   "source": [
    "top_platforms_dict = ['PS2', 'X360', 'PS3', 'Wii', 'DS', 'PS']\n",
    "for platform in top_platforms_dict:\n",
    "    (\n",
    "    data.loc[(data['platform'] == platform) & (data['year_of_release'] < 2999)]\n",
    "    .pivot_table(index='year_of_release', values='total_cases', aggfunc='sum')\n",
    "    .plot(kind='bar', grid=True, legend=False, figsize=(16, 10))\n",
    "    )    \n",
    "    plt.title(platform)\n",
    "    plt.ylabel('Суммарные продажи, млн. копий', fontsize=6)\n",
    "    plt.xlabel('Период', fontsize=6)\n",
    "    plt.show()    "
   ]
  },
  {
   "cell_type": "markdown",
   "metadata": {},
   "source": [
    "Построив данное распределение по годам, мы однозначно можем сказать, что характерный срок \"жизни\" платформы составляет 10 лет. Также я заметил странный выброс у платформы DS, и, как оказалось, данная платформа вышла в 2004 году. А пик продаж находится в районе 4 - 6 года существования платформ. Поэтому актуальным периодом выберем диапазон за последние 4 года, т. е. с 2013 года. В дальнейшем будем работать только с этим периодом, поэтому обновим исходный датафрейм."
   ]
  },
  {
   "cell_type": "code",
   "execution_count": 30,
   "metadata": {},
   "outputs": [],
   "source": [
    "data = data.loc[data['year_of_release'] >= 2013]"
   ]
  },
  {
   "cell_type": "code",
   "execution_count": 31,
   "metadata": {},
   "outputs": [
    {
     "data": {
      "image/png": "[encoded data removed]",
      "text/plain": [
       "<Figure size 1008x576 with 1 Axes>"
      ]
     },
     "metadata": {
      "needs_background": "light"
     },
     "output_type": "display_data"
    }
   ],
   "source": [
    "top_new = ['PS4', 'PS3', 'XOne', 'X360', '3DS', 'WiiU', 'PC', 'PSV', 'Wii', 'PS2']\n",
    "for platform in top_new:\n",
    "    (\n",
    "        data.loc[(data['platform'] == platform) & (data['year_of_release'] < 2999)]\n",
    "        .groupby('year_of_release')['total_cases'].sum()\n",
    "        .plot(figsize=(14,8), grid=True)\n",
    "    )\n",
    "plt.title('Продажи игр по платформам по годам')\n",
    "plt.xlabel('год')\n",
    "plt.ylabel('продаж\"млн. копий\"')\n",
    "plt.legend(['PS4', 'PS3', 'XOne', 'X360', '3DS', 'WiiU', 'PC', 'PSV', 'Wii', 'PS2'])\n",
    "plt.show()"
   ]
  },
  {
   "cell_type": "markdown",
   "metadata": {},
   "source": [
    "Из графика видно, что практически все платформы находятся в стадии снижения продаж, но стоит учитывать, что данные за 2016 год могут быть неполными. Особенно заметно, как падают продажи на платформе PS3 после выхода PS4.\n",
    "\n",
    "Наиболее прибыльны: PS4, XOne, PC, PS3, X360.\n",
    "\n",
    "PC, PS4, PSV, XOne, и WiiU - растущие плафтормы.\n",
    "\n",
    "Наиболее перспективные платформы: PS4, XOne, PC, PS3 и PSV - как растущие и наиболее прибыльные."
   ]
  },
  {
   "cell_type": "code",
   "execution_count": 32,
   "metadata": {},
   "outputs": [
    {
     "data": {
      "image/png": "[encoded data removed]",
      "text/plain": [
       "<Figure size 1440x720 with 1 Axes>"
      ]
     },
     "metadata": {
      "needs_background": "light"
     },
     "output_type": "display_data"
    }
   ],
   "source": [
    "plt.figure(figsize=(20,10))\n",
    "sns.boxplot(data=data.loc[data['year_of_release'] < 2999], x='platform', y='total_cases')\n",
    "plt.ylim(0, 1.8)\n",
    "plt.show()"
   ]
  },
  {
   "cell_type": "markdown",
   "metadata": {},
   "source": [
    "\n",
    "Медианное значение продаж у платформ PS4, PS3 и Wii меньше, чем у XOne и X360 (значения распределены более равномерно), но датасет скошен вправо. На этих платформах осуществляются продажи игр, которые не осуществляются на других, возможно, из-за ценника или жанров игр. Наиболее перспективной и прибыльной выглядит платформа X360: достаточно высокое медианное значение продаж и большой перекос в положительную сторону."
   ]
  },
  {
   "cell_type": "markdown",
   "metadata": {},
   "source": [
    "Посмотрим, как влияют на продажи внутри одной популярной платформы отзывы пользователей и критиков. Построим диаграмму рассеяния и посчитаем корреляцию между отзывами и продажами. \n",
    "Рассмотрим влияние отзывов пользователей и критиков на продажи внутри платформы X360."
   ]
  },
  {
   "cell_type": "code",
   "execution_count": 33,
   "metadata": {},
   "outputs": [],
   "source": [
    "data=data.reset_index(drop=True)"
   ]
  },
  {
   "cell_type": "code",
   "execution_count": 34,
   "metadata": {},
   "outputs": [],
   "source": [
    "\n",
    "\n",
    "xbox = data.loc[(data['platform'] == 'X360') & (data['year_of_release'] < 2999)&(data['critic_score']<2999)]"
   ]
  },
  {
   "cell_type": "code",
   "execution_count": 35,
   "metadata": {},
   "outputs": [
    {
     "data": {
      "text/html": [
       "<div>\n",
       "<style scoped>\n",
       "    .dataframe tbody tr th:only-of-type {\n",
       "        vertical-align: middle;\n",
       "    }\n",
       "\n",
       "    .dataframe tbody tr th {\n",
       "        vertical-align: top;\n",
       "    }\n",
       "\n",
       "    .dataframe thead th {\n",
       "        text-align: right;\n",
       "    }\n",
       "</style>\n",
       "<table border=\"1\" class=\"dataframe\">\n",
       "  <thead>\n",
       "    <tr style=\"text-align: right;\">\n",
       "      <th></th>\n",
       "      <th>name</th>\n",
       "      <th>platform</th>\n",
       "      <th>year_of_release</th>\n",
       "      <th>genre</th>\n",
       "      <th>na_sales</th>\n",
       "      <th>eu_sales</th>\n",
       "      <th>jp_sales</th>\n",
       "      <th>other_sales</th>\n",
       "      <th>critic_score</th>\n",
       "      <th>user_score</th>\n",
       "      <th>rating</th>\n",
       "      <th>total_cases</th>\n",
       "    </tr>\n",
       "  </thead>\n",
       "  <tbody>\n",
       "    <tr>\n",
       "      <th>1</th>\n",
       "      <td>Grand Theft Auto V</td>\n",
       "      <td>X360</td>\n",
       "      <td>2013</td>\n",
       "      <td>Action</td>\n",
       "      <td>9.66</td>\n",
       "      <td>5.14</td>\n",
       "      <td>0.06</td>\n",
       "      <td>1.41</td>\n",
       "      <td>97.0</td>\n",
       "      <td>8.1</td>\n",
       "      <td>M</td>\n",
       "      <td>16.27</td>\n",
       "    </tr>\n",
       "    <tr>\n",
       "      <th>6</th>\n",
       "      <td>Call of Duty: Ghosts</td>\n",
       "      <td>X360</td>\n",
       "      <td>2013</td>\n",
       "      <td>Shooter</td>\n",
       "      <td>6.73</td>\n",
       "      <td>2.56</td>\n",
       "      <td>0.04</td>\n",
       "      <td>0.91</td>\n",
       "      <td>73.0</td>\n",
       "      <td>2.6</td>\n",
       "      <td>M</td>\n",
       "      <td>10.24</td>\n",
       "    </tr>\n",
       "    <tr>\n",
       "      <th>41</th>\n",
       "      <td>FIFA 14</td>\n",
       "      <td>X360</td>\n",
       "      <td>2013</td>\n",
       "      <td>Sports</td>\n",
       "      <td>0.92</td>\n",
       "      <td>2.89</td>\n",
       "      <td>0.01</td>\n",
       "      <td>0.40</td>\n",
       "      <td>84.0</td>\n",
       "      <td>4.2</td>\n",
       "      <td>E</td>\n",
       "      <td>4.22</td>\n",
       "    </tr>\n",
       "    <tr>\n",
       "      <th>59</th>\n",
       "      <td>Battlefield 4</td>\n",
       "      <td>X360</td>\n",
       "      <td>2013</td>\n",
       "      <td>Shooter</td>\n",
       "      <td>2.15</td>\n",
       "      <td>1.01</td>\n",
       "      <td>0.02</td>\n",
       "      <td>0.31</td>\n",
       "      <td>79.0</td>\n",
       "      <td>5.6</td>\n",
       "      <td>M</td>\n",
       "      <td>3.49</td>\n",
       "    </tr>\n",
       "    <tr>\n",
       "      <th>65</th>\n",
       "      <td>Assassin's Creed IV: Black Flag</td>\n",
       "      <td>X360</td>\n",
       "      <td>2013</td>\n",
       "      <td>Action</td>\n",
       "      <td>1.90</td>\n",
       "      <td>1.11</td>\n",
       "      <td>0.01</td>\n",
       "      <td>0.29</td>\n",
       "      <td>86.0</td>\n",
       "      <td>7.9</td>\n",
       "      <td>M</td>\n",
       "      <td>3.31</td>\n",
       "    </tr>\n",
       "  </tbody>\n",
       "</table>\n",
       "</div>"
      ],
      "text/plain": [
       "                               name platform  year_of_release    genre  \\\n",
       "1                Grand Theft Auto V     X360             2013   Action   \n",
       "6              Call of Duty: Ghosts     X360             2013  Shooter   \n",
       "41                          FIFA 14     X360             2013   Sports   \n",
       "59                    Battlefield 4     X360             2013  Shooter   \n",
       "65  Assassin's Creed IV: Black Flag     X360             2013   Action   \n",
       "\n",
       "    na_sales  eu_sales  jp_sales  other_sales  critic_score  user_score  \\\n",
       "1       9.66      5.14      0.06         1.41          97.0         8.1   \n",
       "6       6.73      2.56      0.04         0.91          73.0         2.6   \n",
       "41      0.92      2.89      0.01         0.40          84.0         4.2   \n",
       "59      2.15      1.01      0.02         0.31          79.0         5.6   \n",
       "65      1.90      1.11      0.01         0.29          86.0         7.9   \n",
       "\n",
       "   rating  total_cases  \n",
       "1       M        16.27  \n",
       "6       M        10.24  \n",
       "41      E         4.22  \n",
       "59      M         3.49  \n",
       "65      M         3.31  "
      ]
     },
     "execution_count": 35,
     "metadata": {},
     "output_type": "execute_result"
    }
   ],
   "source": [
    "xbox.head()"
   ]
  },
  {
   "cell_type": "code",
   "execution_count": 36,
   "metadata": {},
   "outputs": [
    {
     "data": {
      "text/plain": [
       "<AxesSubplot:xlabel='critic_score', ylabel='total_cases'>"
      ]
     },
     "execution_count": 36,
     "metadata": {},
     "output_type": "execute_result"
    },
    {
     "data": {
      "image/png": "[encoded data removed]",
      "text/plain": [
       "<Figure size 576x576 with 1 Axes>"
      ]
     },
     "metadata": {
      "needs_background": "light"
     },
     "output_type": "display_data"
    }
   ],
   "source": [
    "xbox.sort_values('critic_score').plot(x='critic_score', y='total_cases', kind='scatter', figsize=(8,8), alpha=0.8)"
   ]
  },
  {
   "cell_type": "code",
   "execution_count": 37,
   "metadata": {},
   "outputs": [
    {
     "data": {
      "text/plain": [
       "0.3503445460228664"
      ]
     },
     "execution_count": 37,
     "metadata": {},
     "output_type": "execute_result"
    }
   ],
   "source": [
    "xbox['critic_score'].corr(xbox['total_cases'])"
   ]
  },
  {
   "cell_type": "markdown",
   "metadata": {},
   "source": [
    "Наибольшая плотность у значений оценок 75-85, коэффициент Пирсона говорит нам о незначительной зависимости этих двух переменных."
   ]
  },
  {
   "cell_type": "code",
   "execution_count": 38,
   "metadata": {},
   "outputs": [
    {
     "data": {
      "text/plain": [
       "<AxesSubplot:xlabel='user_score', ylabel='total_cases'>"
      ]
     },
     "execution_count": 38,
     "metadata": {},
     "output_type": "execute_result"
    },
    {
     "data": {
      "image/png": "[encoded data removed]",
      "text/plain": [
       "<Figure size 576x576 with 1 Axes>"
      ]
     },
     "metadata": {
      "needs_background": "light"
     },
     "output_type": "display_data"
    }
   ],
   "source": [
    "\n",
    "xbox.sort_values('user_score').plot(x='user_score', y='total_cases', kind='scatter', figsize=(8,8), alpha=0.8)\n"
   ]
  },
  {
   "cell_type": "code",
   "execution_count": 39,
   "metadata": {},
   "outputs": [
    {
     "data": {
      "text/plain": [
       "-0.006238179532306317"
      ]
     },
     "execution_count": 39,
     "metadata": {},
     "output_type": "execute_result"
    }
   ],
   "source": [
    "xbox['user_score'].corr(xbox['total_cases'])"
   ]
  },
  {
   "cell_type": "markdown",
   "metadata": {},
   "source": [
    "Практически никакой зависимости между оценками пользователей и продажами нет."
   ]
  },
  {
   "cell_type": "code",
   "execution_count": 40,
   "metadata": {},
   "outputs": [],
   "source": [
    "all = data.loc[(data['year_of_release'] < 2999) & (data['user_score'] < 2999) & (data['critic_score']<2999)]"
   ]
  },
  {
   "cell_type": "code",
   "execution_count": 41,
   "metadata": {},
   "outputs": [
    {
     "data": {
      "image/png": "[encoded data removed]",
      "text/plain": [
       "<Figure size 1296x576 with 1 Axes>"
      ]
     },
     "metadata": {
      "needs_background": "light"
     },
     "output_type": "display_data"
    }
   ],
   "source": [
    "\n",
    "\n",
    "(all.sort_values('user_score')\n",
    ".plot(x='user_score', y='total_cases', kind='scatter', figsize=(18,8))\n",
    ")\n",
    "plt.show()"
   ]
  },
  {
   "cell_type": "code",
   "execution_count": 42,
   "metadata": {},
   "outputs": [
    {
     "data": {
      "text/plain": [
       "-0.004063660293396326"
      ]
     },
     "execution_count": 42,
     "metadata": {},
     "output_type": "execute_result"
    }
   ],
   "source": [
    "all['user_score'].corr(all['total_cases'])"
   ]
  },
  {
   "cell_type": "code",
   "execution_count": 43,
   "metadata": {},
   "outputs": [
    {
     "data": {
      "image/png": "[encoded data removed]",
      "text/plain": [
       "<Figure size 1296x576 with 1 Axes>"
      ]
     },
     "metadata": {
      "needs_background": "light"
     },
     "output_type": "display_data"
    }
   ],
   "source": [
    "(all.sort_values('critic_score')\n",
    ".plot(x='critic_score', y='total_cases', kind='scatter', figsize=(18,8))\n",
    ")\n",
    "plt.show()"
   ]
  },
  {
   "cell_type": "code",
   "execution_count": 44,
   "metadata": {},
   "outputs": [
    {
     "data": {
      "text/plain": [
       "0.3116921831260645"
      ]
     },
     "execution_count": 44,
     "metadata": {},
     "output_type": "execute_result"
    }
   ],
   "source": [
    "all['critic_score'].corr(all['total_cases'])"
   ]
  },
  {
   "cell_type": "markdown",
   "metadata": {},
   "source": [
    "Никакой зависимости между глобальными продажами и оценками критиков или пользователей не выявлено."
   ]
  },
  {
   "cell_type": "markdown",
   "metadata": {},
   "source": [
    "Посмотрим на общее распределение игр по жанрам."
   ]
  },
  {
   "cell_type": "code",
   "execution_count": 45,
   "metadata": {},
   "outputs": [
    {
     "data": {
      "text/html": [
       "<div>\n",
       "<style scoped>\n",
       "    .dataframe tbody tr th:only-of-type {\n",
       "        vertical-align: middle;\n",
       "    }\n",
       "\n",
       "    .dataframe tbody tr th {\n",
       "        vertical-align: top;\n",
       "    }\n",
       "\n",
       "    .dataframe thead th {\n",
       "        text-align: right;\n",
       "    }\n",
       "</style>\n",
       "<table border=\"1\" class=\"dataframe\">\n",
       "  <thead>\n",
       "    <tr style=\"text-align: right;\">\n",
       "      <th></th>\n",
       "      <th>name</th>\n",
       "      <th>platform</th>\n",
       "      <th>year_of_release</th>\n",
       "      <th>genre</th>\n",
       "      <th>na_sales</th>\n",
       "      <th>eu_sales</th>\n",
       "      <th>jp_sales</th>\n",
       "      <th>other_sales</th>\n",
       "      <th>critic_score</th>\n",
       "      <th>user_score</th>\n",
       "      <th>rating</th>\n",
       "      <th>total_cases</th>\n",
       "    </tr>\n",
       "  </thead>\n",
       "  <tbody>\n",
       "    <tr>\n",
       "      <th>0</th>\n",
       "      <td>Grand Theft Auto V</td>\n",
       "      <td>PS3</td>\n",
       "      <td>2013</td>\n",
       "      <td>Action</td>\n",
       "      <td>7.02</td>\n",
       "      <td>9.09</td>\n",
       "      <td>0.98</td>\n",
       "      <td>3.96</td>\n",
       "      <td>97.0</td>\n",
       "      <td>8.2</td>\n",
       "      <td>M</td>\n",
       "      <td>21.05</td>\n",
       "    </tr>\n",
       "    <tr>\n",
       "      <th>1</th>\n",
       "      <td>Grand Theft Auto V</td>\n",
       "      <td>X360</td>\n",
       "      <td>2013</td>\n",
       "      <td>Action</td>\n",
       "      <td>9.66</td>\n",
       "      <td>5.14</td>\n",
       "      <td>0.06</td>\n",
       "      <td>1.41</td>\n",
       "      <td>97.0</td>\n",
       "      <td>8.1</td>\n",
       "      <td>M</td>\n",
       "      <td>16.27</td>\n",
       "    </tr>\n",
       "    <tr>\n",
       "      <th>2</th>\n",
       "      <td>Call of Duty: Black Ops 3</td>\n",
       "      <td>PS4</td>\n",
       "      <td>2015</td>\n",
       "      <td>Shooter</td>\n",
       "      <td>6.03</td>\n",
       "      <td>5.86</td>\n",
       "      <td>0.36</td>\n",
       "      <td>2.38</td>\n",
       "      <td>3000.0</td>\n",
       "      <td>3000.0</td>\n",
       "      <td>unknown</td>\n",
       "      <td>14.63</td>\n",
       "    </tr>\n",
       "    <tr>\n",
       "      <th>3</th>\n",
       "      <td>Pokemon X/Pokemon Y</td>\n",
       "      <td>3DS</td>\n",
       "      <td>2013</td>\n",
       "      <td>Role-Playing</td>\n",
       "      <td>5.28</td>\n",
       "      <td>4.19</td>\n",
       "      <td>4.35</td>\n",
       "      <td>0.78</td>\n",
       "      <td>3000.0</td>\n",
       "      <td>3000.0</td>\n",
       "      <td>unknown</td>\n",
       "      <td>14.60</td>\n",
       "    </tr>\n",
       "    <tr>\n",
       "      <th>4</th>\n",
       "      <td>Grand Theft Auto V</td>\n",
       "      <td>PS4</td>\n",
       "      <td>2014</td>\n",
       "      <td>Action</td>\n",
       "      <td>3.96</td>\n",
       "      <td>6.31</td>\n",
       "      <td>0.38</td>\n",
       "      <td>1.97</td>\n",
       "      <td>97.0</td>\n",
       "      <td>8.3</td>\n",
       "      <td>M</td>\n",
       "      <td>12.62</td>\n",
       "    </tr>\n",
       "  </tbody>\n",
       "</table>\n",
       "</div>"
      ],
      "text/plain": [
       "                        name platform  year_of_release         genre  \\\n",
       "0         Grand Theft Auto V      PS3             2013        Action   \n",
       "1         Grand Theft Auto V     X360             2013        Action   \n",
       "2  Call of Duty: Black Ops 3      PS4             2015       Shooter   \n",
       "3        Pokemon X/Pokemon Y      3DS             2013  Role-Playing   \n",
       "4         Grand Theft Auto V      PS4             2014        Action   \n",
       "\n",
       "   na_sales  eu_sales  jp_sales  other_sales  critic_score  user_score  \\\n",
       "0      7.02      9.09      0.98         3.96          97.0         8.2   \n",
       "1      9.66      5.14      0.06         1.41          97.0         8.1   \n",
       "2      6.03      5.86      0.36         2.38        3000.0      3000.0   \n",
       "3      5.28      4.19      4.35         0.78        3000.0      3000.0   \n",
       "4      3.96      6.31      0.38         1.97          97.0         8.3   \n",
       "\n",
       "    rating  total_cases  \n",
       "0        M        21.05  \n",
       "1        M        16.27  \n",
       "2  unknown        14.63  \n",
       "3  unknown        14.60  \n",
       "4        M        12.62  "
      ]
     },
     "execution_count": 45,
     "metadata": {},
     "output_type": "execute_result"
    }
   ],
   "source": [
    "data.head()"
   ]
  },
  {
   "cell_type": "code",
   "execution_count": 46,
   "metadata": {},
   "outputs": [],
   "source": [
    "genre = (data\n",
    ".query('year_of_release < 2999')\n",
    ".pivot_table(index='genre', values='total_cases', aggfunc=['count', 'median','sum'])\n",
    ")\n"
   ]
  },
  {
   "cell_type": "code",
   "execution_count": 47,
   "metadata": {},
   "outputs": [],
   "source": [
    "genre.columns = ['count', 'mean', 'sum']\n",
    "genre = genre.sort_values(by = 'sum', ascending = False)"
   ]
  },
  {
   "cell_type": "code",
   "execution_count": 48,
   "metadata": {},
   "outputs": [
    {
     "data": {
      "text/html": [
       "<div>\n",
       "<style scoped>\n",
       "    .dataframe tbody tr th:only-of-type {\n",
       "        vertical-align: middle;\n",
       "    }\n",
       "\n",
       "    .dataframe tbody tr th {\n",
       "        vertical-align: top;\n",
       "    }\n",
       "\n",
       "    .dataframe thead th {\n",
       "        text-align: right;\n",
       "    }\n",
       "</style>\n",
       "<table border=\"1\" class=\"dataframe\">\n",
       "  <thead>\n",
       "    <tr style=\"text-align: right;\">\n",
       "      <th></th>\n",
       "      <th>count</th>\n",
       "      <th>mean</th>\n",
       "      <th>sum</th>\n",
       "    </tr>\n",
       "    <tr>\n",
       "      <th>genre</th>\n",
       "      <th></th>\n",
       "      <th></th>\n",
       "      <th></th>\n",
       "    </tr>\n",
       "  </thead>\n",
       "  <tbody>\n",
       "    <tr>\n",
       "      <th>Action</th>\n",
       "      <td>766</td>\n",
       "      <td>0.110</td>\n",
       "      <td>321.87</td>\n",
       "    </tr>\n",
       "    <tr>\n",
       "      <th>Shooter</th>\n",
       "      <td>187</td>\n",
       "      <td>0.450</td>\n",
       "      <td>232.98</td>\n",
       "    </tr>\n",
       "    <tr>\n",
       "      <th>Sports</th>\n",
       "      <td>214</td>\n",
       "      <td>0.240</td>\n",
       "      <td>150.65</td>\n",
       "    </tr>\n",
       "    <tr>\n",
       "      <th>Role-Playing</th>\n",
       "      <td>292</td>\n",
       "      <td>0.125</td>\n",
       "      <td>145.89</td>\n",
       "    </tr>\n",
       "    <tr>\n",
       "      <th>Misc</th>\n",
       "      <td>155</td>\n",
       "      <td>0.100</td>\n",
       "      <td>62.82</td>\n",
       "    </tr>\n",
       "    <tr>\n",
       "      <th>Platform</th>\n",
       "      <td>74</td>\n",
       "      <td>0.225</td>\n",
       "      <td>42.63</td>\n",
       "    </tr>\n",
       "    <tr>\n",
       "      <th>Racing</th>\n",
       "      <td>85</td>\n",
       "      <td>0.120</td>\n",
       "      <td>39.89</td>\n",
       "    </tr>\n",
       "    <tr>\n",
       "      <th>Fighting</th>\n",
       "      <td>80</td>\n",
       "      <td>0.125</td>\n",
       "      <td>35.31</td>\n",
       "    </tr>\n",
       "    <tr>\n",
       "      <th>Adventure</th>\n",
       "      <td>245</td>\n",
       "      <td>0.030</td>\n",
       "      <td>23.64</td>\n",
       "    </tr>\n",
       "    <tr>\n",
       "      <th>Simulation</th>\n",
       "      <td>62</td>\n",
       "      <td>0.100</td>\n",
       "      <td>21.76</td>\n",
       "    </tr>\n",
       "    <tr>\n",
       "      <th>Strategy</th>\n",
       "      <td>56</td>\n",
       "      <td>0.080</td>\n",
       "      <td>10.08</td>\n",
       "    </tr>\n",
       "    <tr>\n",
       "      <th>Puzzle</th>\n",
       "      <td>17</td>\n",
       "      <td>0.060</td>\n",
       "      <td>3.17</td>\n",
       "    </tr>\n",
       "  </tbody>\n",
       "</table>\n",
       "</div>"
      ],
      "text/plain": [
       "              count   mean     sum\n",
       "genre                             \n",
       "Action          766  0.110  321.87\n",
       "Shooter         187  0.450  232.98\n",
       "Sports          214  0.240  150.65\n",
       "Role-Playing    292  0.125  145.89\n",
       "Misc            155  0.100   62.82\n",
       "Platform         74  0.225   42.63\n",
       "Racing           85  0.120   39.89\n",
       "Fighting         80  0.125   35.31\n",
       "Adventure       245  0.030   23.64\n",
       "Simulation       62  0.100   21.76\n",
       "Strategy         56  0.080   10.08\n",
       "Puzzle           17  0.060    3.17"
      ]
     },
     "execution_count": 48,
     "metadata": {},
     "output_type": "execute_result"
    }
   ],
   "source": [
    "genre"
   ]
  },
  {
   "cell_type": "markdown",
   "metadata": {},
   "source": [
    "Можно заметить, что не всегда количество игр жанра гарантирует хорошие продажи. К примеру, в жанре Adventure выпущено игр значительно больше, чем в некоторых других, но они имеют очень маленькое медианное значение продаж.\n",
    "\n",
    "Кроме того, существуют обратные случаи, когда медианное значение продаж приближается к максимальному, среди всех жанров, но количество игр очень маленькое: жанр Simulation."
   ]
  },
  {
   "cell_type": "markdown",
   "metadata": {},
   "source": [
    "# Вывод\n",
    "Мы вявили, что в среднем каждая плотформа \"живёт\" 10 лет. Но в качестве актуального периода выбрали диапазон за последние 4 года (т. е. с 2013 года), т. к. пик продаж находится в районе 4 - 6 года существования платформ.\n",
    " \n",
    "По результатам анализа самая прибыльная платформа X360. \n",
    "За актуальный период выявили  прибыльные и растущие платформы: PS4, XOne, PC, PS3, X360 и PSV.\n",
    "\n",
    "Определили, что продажи на платформах не зависят напрямую от рейтинга критиков и пользователей.\n",
    "\n",
    "Самые прибыльные жанры: Action, Shooter, Sports."
   ]
  },
  {
   "cell_type": "markdown",
   "metadata": {},
   "source": [
    " ### Составление портрета пользоватлея каждого региона:"
   ]
  },
  {
   "cell_type": "markdown",
   "metadata": {},
   "source": [
    "Определим топ-5 самых популярных платформ для пользователя каждого региона."
   ]
  },
  {
   "cell_type": "code",
   "execution_count": 49,
   "metadata": {},
   "outputs": [
    {
     "data": {
      "text/html": [
       "<div>\n",
       "<style scoped>\n",
       "    .dataframe tbody tr th:only-of-type {\n",
       "        vertical-align: middle;\n",
       "    }\n",
       "\n",
       "    .dataframe tbody tr th {\n",
       "        vertical-align: top;\n",
       "    }\n",
       "\n",
       "    .dataframe thead th {\n",
       "        text-align: right;\n",
       "    }\n",
       "</style>\n",
       "<table border=\"1\" class=\"dataframe\">\n",
       "  <thead>\n",
       "    <tr style=\"text-align: right;\">\n",
       "      <th></th>\n",
       "      <th>name</th>\n",
       "      <th>platform</th>\n",
       "      <th>year_of_release</th>\n",
       "      <th>genre</th>\n",
       "      <th>na_sales</th>\n",
       "      <th>eu_sales</th>\n",
       "      <th>jp_sales</th>\n",
       "      <th>other_sales</th>\n",
       "      <th>critic_score</th>\n",
       "      <th>user_score</th>\n",
       "      <th>rating</th>\n",
       "      <th>total_cases</th>\n",
       "    </tr>\n",
       "  </thead>\n",
       "  <tbody>\n",
       "    <tr>\n",
       "      <th>0</th>\n",
       "      <td>Grand Theft Auto V</td>\n",
       "      <td>PS3</td>\n",
       "      <td>2013</td>\n",
       "      <td>Action</td>\n",
       "      <td>7.02</td>\n",
       "      <td>9.09</td>\n",
       "      <td>0.98</td>\n",
       "      <td>3.96</td>\n",
       "      <td>97.0</td>\n",
       "      <td>8.2</td>\n",
       "      <td>M</td>\n",
       "      <td>21.05</td>\n",
       "    </tr>\n",
       "    <tr>\n",
       "      <th>1</th>\n",
       "      <td>Grand Theft Auto V</td>\n",
       "      <td>X360</td>\n",
       "      <td>2013</td>\n",
       "      <td>Action</td>\n",
       "      <td>9.66</td>\n",
       "      <td>5.14</td>\n",
       "      <td>0.06</td>\n",
       "      <td>1.41</td>\n",
       "      <td>97.0</td>\n",
       "      <td>8.1</td>\n",
       "      <td>M</td>\n",
       "      <td>16.27</td>\n",
       "    </tr>\n",
       "    <tr>\n",
       "      <th>2</th>\n",
       "      <td>Call of Duty: Black Ops 3</td>\n",
       "      <td>PS4</td>\n",
       "      <td>2015</td>\n",
       "      <td>Shooter</td>\n",
       "      <td>6.03</td>\n",
       "      <td>5.86</td>\n",
       "      <td>0.36</td>\n",
       "      <td>2.38</td>\n",
       "      <td>3000.0</td>\n",
       "      <td>3000.0</td>\n",
       "      <td>unknown</td>\n",
       "      <td>14.63</td>\n",
       "    </tr>\n",
       "    <tr>\n",
       "      <th>3</th>\n",
       "      <td>Pokemon X/Pokemon Y</td>\n",
       "      <td>3DS</td>\n",
       "      <td>2013</td>\n",
       "      <td>Role-Playing</td>\n",
       "      <td>5.28</td>\n",
       "      <td>4.19</td>\n",
       "      <td>4.35</td>\n",
       "      <td>0.78</td>\n",
       "      <td>3000.0</td>\n",
       "      <td>3000.0</td>\n",
       "      <td>unknown</td>\n",
       "      <td>14.60</td>\n",
       "    </tr>\n",
       "    <tr>\n",
       "      <th>4</th>\n",
       "      <td>Grand Theft Auto V</td>\n",
       "      <td>PS4</td>\n",
       "      <td>2014</td>\n",
       "      <td>Action</td>\n",
       "      <td>3.96</td>\n",
       "      <td>6.31</td>\n",
       "      <td>0.38</td>\n",
       "      <td>1.97</td>\n",
       "      <td>97.0</td>\n",
       "      <td>8.3</td>\n",
       "      <td>M</td>\n",
       "      <td>12.62</td>\n",
       "    </tr>\n",
       "    <tr>\n",
       "      <th>...</th>\n",
       "      <td>...</td>\n",
       "      <td>...</td>\n",
       "      <td>...</td>\n",
       "      <td>...</td>\n",
       "      <td>...</td>\n",
       "      <td>...</td>\n",
       "      <td>...</td>\n",
       "      <td>...</td>\n",
       "      <td>...</td>\n",
       "      <td>...</td>\n",
       "      <td>...</td>\n",
       "      <td>...</td>\n",
       "    </tr>\n",
       "    <tr>\n",
       "      <th>2497</th>\n",
       "      <td>Strawberry Nauts</td>\n",
       "      <td>PSV</td>\n",
       "      <td>2016</td>\n",
       "      <td>Adventure</td>\n",
       "      <td>0.00</td>\n",
       "      <td>0.00</td>\n",
       "      <td>0.01</td>\n",
       "      <td>0.00</td>\n",
       "      <td>3000.0</td>\n",
       "      <td>3000.0</td>\n",
       "      <td>unknown</td>\n",
       "      <td>0.01</td>\n",
       "    </tr>\n",
       "    <tr>\n",
       "      <th>2498</th>\n",
       "      <td>Aiyoku no Eustia</td>\n",
       "      <td>PSV</td>\n",
       "      <td>2014</td>\n",
       "      <td>Misc</td>\n",
       "      <td>0.00</td>\n",
       "      <td>0.00</td>\n",
       "      <td>0.01</td>\n",
       "      <td>0.00</td>\n",
       "      <td>3000.0</td>\n",
       "      <td>3000.0</td>\n",
       "      <td>unknown</td>\n",
       "      <td>0.01</td>\n",
       "    </tr>\n",
       "    <tr>\n",
       "      <th>2499</th>\n",
       "      <td>Samurai Warriors: Sanada Maru</td>\n",
       "      <td>PS3</td>\n",
       "      <td>2016</td>\n",
       "      <td>Action</td>\n",
       "      <td>0.00</td>\n",
       "      <td>0.00</td>\n",
       "      <td>0.01</td>\n",
       "      <td>0.00</td>\n",
       "      <td>3000.0</td>\n",
       "      <td>3000.0</td>\n",
       "      <td>unknown</td>\n",
       "      <td>0.01</td>\n",
       "    </tr>\n",
       "    <tr>\n",
       "      <th>2500</th>\n",
       "      <td>Haitaka no Psychedelica</td>\n",
       "      <td>PSV</td>\n",
       "      <td>2016</td>\n",
       "      <td>Adventure</td>\n",
       "      <td>0.00</td>\n",
       "      <td>0.00</td>\n",
       "      <td>0.01</td>\n",
       "      <td>0.00</td>\n",
       "      <td>3000.0</td>\n",
       "      <td>3000.0</td>\n",
       "      <td>unknown</td>\n",
       "      <td>0.01</td>\n",
       "    </tr>\n",
       "    <tr>\n",
       "      <th>2501</th>\n",
       "      <td>Winning Post 8 2016</td>\n",
       "      <td>PSV</td>\n",
       "      <td>2016</td>\n",
       "      <td>Simulation</td>\n",
       "      <td>0.00</td>\n",
       "      <td>0.00</td>\n",
       "      <td>0.01</td>\n",
       "      <td>0.00</td>\n",
       "      <td>3000.0</td>\n",
       "      <td>3000.0</td>\n",
       "      <td>unknown</td>\n",
       "      <td>0.01</td>\n",
       "    </tr>\n",
       "  </tbody>\n",
       "</table>\n",
       "<p>2233 rows × 12 columns</p>\n",
       "</div>"
      ],
      "text/plain": [
       "                               name platform  year_of_release         genre  \\\n",
       "0                Grand Theft Auto V      PS3             2013        Action   \n",
       "1                Grand Theft Auto V     X360             2013        Action   \n",
       "2         Call of Duty: Black Ops 3      PS4             2015       Shooter   \n",
       "3               Pokemon X/Pokemon Y      3DS             2013  Role-Playing   \n",
       "4                Grand Theft Auto V      PS4             2014        Action   \n",
       "...                             ...      ...              ...           ...   \n",
       "2497               Strawberry Nauts      PSV             2016     Adventure   \n",
       "2498               Aiyoku no Eustia      PSV             2014          Misc   \n",
       "2499  Samurai Warriors: Sanada Maru      PS3             2016        Action   \n",
       "2500        Haitaka no Psychedelica      PSV             2016     Adventure   \n",
       "2501            Winning Post 8 2016      PSV             2016    Simulation   \n",
       "\n",
       "      na_sales  eu_sales  jp_sales  other_sales  critic_score  user_score  \\\n",
       "0         7.02      9.09      0.98         3.96          97.0         8.2   \n",
       "1         9.66      5.14      0.06         1.41          97.0         8.1   \n",
       "2         6.03      5.86      0.36         2.38        3000.0      3000.0   \n",
       "3         5.28      4.19      4.35         0.78        3000.0      3000.0   \n",
       "4         3.96      6.31      0.38         1.97          97.0         8.3   \n",
       "...        ...       ...       ...          ...           ...         ...   \n",
       "2497      0.00      0.00      0.01         0.00        3000.0      3000.0   \n",
       "2498      0.00      0.00      0.01         0.00        3000.0      3000.0   \n",
       "2499      0.00      0.00      0.01         0.00        3000.0      3000.0   \n",
       "2500      0.00      0.00      0.01         0.00        3000.0      3000.0   \n",
       "2501      0.00      0.00      0.01         0.00        3000.0      3000.0   \n",
       "\n",
       "       rating  total_cases  \n",
       "0           M        21.05  \n",
       "1           M        16.27  \n",
       "2     unknown        14.63  \n",
       "3     unknown        14.60  \n",
       "4           M        12.62  \n",
       "...       ...          ...  \n",
       "2497  unknown         0.01  \n",
       "2498  unknown         0.01  \n",
       "2499  unknown         0.01  \n",
       "2500  unknown         0.01  \n",
       "2501  unknown         0.01  \n",
       "\n",
       "[2233 rows x 12 columns]"
      ]
     },
     "execution_count": 49,
     "metadata": {},
     "output_type": "execute_result"
    }
   ],
   "source": [
    "country = data.loc[data['year_of_release'] < 2999]\n",
    "country"
   ]
  },
  {
   "cell_type": "code",
   "execution_count": 50,
   "metadata": {},
   "outputs": [
    {
     "data": {
      "image/png": "[encoded data removed]",
      "text/plain": [
       "<Figure size 576x576 with 1 Axes>"
      ]
     },
     "metadata": {},
     "output_type": "display_data"
    },
    {
     "data": {
      "image/png": "[encoded data removed]",
      "text/plain": [
       "<Figure size 576x576 with 1 Axes>"
      ]
     },
     "metadata": {},
     "output_type": "display_data"
    },
    {
     "data": {
      "image/png": "[encoded data removed]",
      "text/plain": [
       "<Figure size 576x576 with 1 Axes>"
      ]
     },
     "metadata": {},
     "output_type": "display_data"
    },
    {
     "data": {
      "image/png": "[encoded data removed]",
      "text/plain": [
       "<Figure size 576x576 with 1 Axes>"
      ]
     },
     "metadata": {},
     "output_type": "display_data"
    }
   ],
   "source": [
    "# напишем цикл, который будет выводить топ5 платформ по объему продаж по каждому региону \n",
    "# за актуальный период и выводить график с распределением долей продаж\n",
    "for elem in ['na_sales', 'eu_sales', 'jp_sales', 'other_sales']:\n",
    "    (country.groupby(by='platform')\n",
    "    .agg({elem :'sum'})\n",
    "    .sort_values(by=elem, ascending=False)\n",
    "    .head(5)\n",
    "    .plot(kind='pie', subplots=True, figsize=(8,8), autopct='%1.2f%%')\n",
    "    )\n",
    "    plt.title(f'Распределение доли продаж платформ по {elem}')\n",
    "    plt.show()\n"
   ]
  },
  {
   "cell_type": "markdown",
   "metadata": {},
   "source": [
    "Топ платформ в Северной Америке и в Европе достаоточно схож, но есть отличия. Лидирующие позиции занимает PS4, но в первом случае доля платформы близится к 1/3, а во втором - доля близка к половине.\n",
    "Особое внимание надо обратить на азиатский рынок: \n",
    "3DS - практически половина от всех платформ, а PS3 обгоняет PS4, этот рынок координально отличается от американского и европейского."
   ]
  },
  {
   "cell_type": "markdown",
   "metadata": {},
   "source": [
    "Теперь посмотрим на жанры:"
   ]
  },
  {
   "cell_type": "code",
   "execution_count": 51,
   "metadata": {},
   "outputs": [
    {
     "data": {
      "image/png": "[encoded data removed]",
      "text/plain": [
       "<Figure size 576x576 with 1 Axes>"
      ]
     },
     "metadata": {},
     "output_type": "display_data"
    },
    {
     "data": {
      "image/png": "[encoded data removed]",
      "text/plain": [
       "<Figure size 576x576 with 1 Axes>"
      ]
     },
     "metadata": {},
     "output_type": "display_data"
    },
    {
     "data": {
      "image/png": "[encoded data removed]",
      "text/plain": [
       "<Figure size 576x576 with 1 Axes>"
      ]
     },
     "metadata": {},
     "output_type": "display_data"
    },
    {
     "data": {
      "image/png": "[encoded data removed]",
      "text/plain": [
       "<Figure size 576x576 with 1 Axes>"
      ]
     },
     "metadata": {},
     "output_type": "display_data"
    }
   ],
   "source": [
    "for elem in ['na_sales', 'eu_sales', 'jp_sales', 'other_sales']:\n",
    "    (country.groupby(by='genre')\n",
    "    .agg({elem :'sum'})\n",
    "    .sort_values(by=elem, ascending=False)\n",
    "    .head(5)\n",
    "    .plot(kind='pie', subplots=True, figsize=(8,8), autopct='%1.2f%%')\n",
    "    )\n",
    "    plt.title(f'Распределение доли продаж платформ по {elem}')\n",
    "    plt.show()"
   ]
  },
  {
   "cell_type": "markdown",
   "metadata": {},
   "source": [
    "Топ5 жанров в США и Европе практически словпадает 1 мето (33-36.5% всех продаж) и 2 место (27-30% всех продаж) у жанров Action и Shooter соответственно. Role-Playing и Sports с примерно равным соотношением долей продаж (11-13%), в зависимости от региона жанры занимают 3 или 4 место. На 5 месте жанр в Европе - Racing(6.2%), а в Америке - Misc(7.3%).\n",
    "Топ5 жанров в Японии заметно отличается. Тут 1 место и 44% продаж принадлежат жанру Role-Playing. Жанр Action занимает 2 место и 35% продаж. Жанры Misc, Flighting и Shooter по 8, 6 и 5 процентов соответственно. При выходе на Японский рынок стоит учитывать его особенности."
   ]
  },
  {
   "cell_type": "markdown",
   "metadata": {},
   "source": [
    "Влияние рейтинга ESRB на продажи в регионах"
   ]
  },
  {
   "cell_type": "code",
   "execution_count": 52,
   "metadata": {},
   "outputs": [
    {
     "data": {
      "image/png": "[encoded data removed]",
      "text/plain": [
       "<Figure size 720x360 with 1 Axes>"
      ]
     },
     "metadata": {
      "needs_background": "light"
     },
     "output_type": "display_data"
    },
    {
     "data": {
      "image/png": "[encoded data removed]",
      "text/plain": [
       "<Figure size 720x360 with 1 Axes>"
      ]
     },
     "metadata": {
      "needs_background": "light"
     },
     "output_type": "display_data"
    },
    {
     "data": {
      "image/png": "[encoded data removed]",
      "text/plain": [
       "<Figure size 720x360 with 1 Axes>"
      ]
     },
     "metadata": {
      "needs_background": "light"
     },
     "output_type": "display_data"
    },
    {
     "data": {
      "image/png": "[encoded data removed]",
      "text/plain": [
       "<Figure size 720x360 with 1 Axes>"
      ]
     },
     "metadata": {
      "needs_background": "light"
     },
     "output_type": "display_data"
    }
   ],
   "source": [
    "# напишем цикл, который будет выводить распределение продаж по рейтингам \n",
    "# по каждому региону за актуальный период\n",
    "for elem in ['na_sales', 'eu_sales', 'jp_sales', 'other_sales']:\n",
    "    (country.groupby(by='rating')\n",
    "    .agg({elem :'sum'})\n",
    "    .sort_values(by=elem, ascending=False)\n",
    "    .plot(kind='bar', figsize=(10,5), grid=False)\n",
    "    )\n",
    "    plt.title(f'Распределение продаж по рейтингу в регионе {elem}')\n",
    "    plt.xlabel('Рейтинг')\n",
    "    plt.ylabel('Объем продаж, млн')\n",
    "    plt.show()"
   ]
  },
  {
   "cell_type": "markdown",
   "metadata": {},
   "source": [
    "AO (Adults only 18+) — только для взрослых\n",
    "E - everyone - для всех\n",
    "M (Mature 17+) — от 17 лет\n",
    "T (Teen) — для подростков 13-19 лет\n",
    "K-A (Kids to Adults)— для детей и взрослых\n",
    "E10+ (Everyone 10+) — для всех старше 10 лет\n",
    "EC (Early Childhood) — для детей младшего возраста\n",
    "RP (Rating pending) — рейтинг ожидается"
   ]
  },
  {
   "cell_type": "markdown",
   "metadata": {},
   "source": [
    "Несмотря на большое количество пропусков, мы можем увидеть что в Америке и Европе по объемам продаж лидирует группа от 17 лет, далее идет группа \"для всех\", наименьшее количество продаж у игр для подростков.\n",
    "В Японии опять ситуация кординально другая: игры для подростков лидируют, а игры от 17 лет находятся лишь на 4-ом месте."
   ]
  },
  {
   "cell_type": "markdown",
   "metadata": {},
   "source": [
    "# Вывод:\n",
    "В Северной Америке и Европе очень схожий портрет пользователя:\n",
    "\n",
    "Топ5 платформы PS4, XOne, X360, PS3 и 3DS с небольшой разницей в распределении продаж.\n",
    "самые популярные жанры - Action, Shooter, Sports и Role-Playing.\n",
    "бОльшая доля продаж приходится на рейтинг M (Mature 17+) — от 17 лет, далее по популярности рейтинг E - everyone - для всех. Затем идут в примерно равных долях E10+ (Everyone 10+) — для всех старше 10 лет и T (Teen) — для подростков 13-19 лет\n",
    "\n",
    "Портрет пользователя в Японии заметно отличается:\n",
    "\n",
    "лидирует местная платформа: половина продаж принадлежит платформе 3DS. Платформы PSV, PS4 и WiiU составляют 13.6%, 11.6% и 7.9% соответственно, когда PS3 занимает долю в 17%.\n",
    " Тут 1 место и 44% продаж принадлежат жанру Role-Playing. Жанр Action занимает 2 место и 35% продаж. Жанры Misc, Flighting и Shooter по 8, 6 и 5 процентов соответственно. При выходе на Японский рынок стоит учитывать его особенности.\n",
    "в примерно равной популярности рейтинги E - everyone - для всех и T (Teen) — для подростков 13-19 лет. На 3 месте M (Mature 17+) — от 17 лет. При выходе на Японский рынок стоит учитывать его особенности."
   ]
  },
  {
   "cell_type": "markdown",
   "metadata": {},
   "source": [
    "# Проверим гипотезы:"
   ]
  },
  {
   "cell_type": "markdown",
   "metadata": {},
   "source": [
    "Средние пользовательские рейтинги платформ Xbox One и PC одинаковые"
   ]
  },
  {
   "cell_type": "code",
   "execution_count": 53,
   "metadata": {},
   "outputs": [],
   "source": [
    "ratings_pc = data[(data['user_score']!=3000)&(data['platform']=='PC')&\n",
    "                  (data['year_of_release']<3000)]\n",
    "ratings_xone = data[(data['user_score']!=3000)&(data['platform']=='XOne')&\n",
    "                  (data['year_of_release']<3000)]"
   ]
  },
  {
   "cell_type": "code",
   "execution_count": 54,
   "metadata": {},
   "outputs": [
    {
     "name": "stdout",
     "output_type": "stream",
     "text": [
      "p-значение: 0.14012658403611647\n",
      "Не получилось отвергнуть нулевую гипотезу\n"
     ]
    }
   ],
   "source": [
    "from scipy import stats as st\n",
    "alpha = 0.05\n",
    "results = st.ttest_ind(ratings_pc['user_score'], ratings_xone['user_score'])\n",
    "print('p-значение:', results.pvalue)\n",
    "\n",
    "if (results.pvalue < alpha):\n",
    "    print(\"Отвергаем нулевую гипотезу\")\n",
    "else:\n",
    "    print(\"Не получилось отвергнуть нулевую гипотезу\")"
   ]
  },
  {
   "cell_type": "markdown",
   "metadata": {},
   "source": [
    "Вывод:\n",
    "Для уровня значимости альфа = 0.05\n",
    "нет оснований отвергнуть нулевую гипотезу о том, что средние пользовательские рейтинги платформ PC и Xbox One одинаковые."
   ]
  },
  {
   "cell_type": "markdown",
   "metadata": {},
   "source": [
    "Средние пользовательские рейтинги жанров Action и Sports  разные."
   ]
  },
  {
   "cell_type": "code",
   "execution_count": 55,
   "metadata": {},
   "outputs": [],
   "source": [
    "ratings_action = data[(data['user_score']!=3000)&(data['genre']=='Action')&\n",
    "                (data['year_of_release']<3000)]\n",
    "ratings_sports = data[(data['user_score']!=3000)&(data['genre']=='Sports')&\n",
    "                (data['year_of_release']<3000)]"
   ]
  },
  {
   "cell_type": "code",
   "execution_count": 56,
   "metadata": {},
   "outputs": [
    {
     "name": "stdout",
     "output_type": "stream",
     "text": [
      "p-значение: 1.0517832389140023e-27\n",
      "Отвергаем нулевую гипотезу\n"
     ]
    }
   ],
   "source": [
    "alpha = 0.05\n",
    "results = st.ttest_ind(ratings_action['user_score'], ratings_sports['user_score'])\n",
    "print('p-значение:', results.pvalue)\n",
    "\n",
    "if (results.pvalue < alpha):\n",
    "    print(\"Отвергаем нулевую гипотезу\")\n",
    "else:\n",
    "    print(\"Не получилось отвергнуть нулевую гипотезу\")"
   ]
  },
  {
   "cell_type": "markdown",
   "metadata": {},
   "source": [
    "Вывод:\n",
    "Отвергаем нулевую гипотезу H0 - средние пользовательские рейтинги жанров Action и Sports одинаковые в пользу альтеративы."
   ]
  },
  {
   "cell_type": "markdown",
   "metadata": {},
   "source": [
    "### Выводы:\n",
    "Было проведено исследование исторических данных продаж игр для разных платформ с 2013 по 2016 годы.\n",
    "\n",
    "По результатам исследования получены данные о том, что среднее время актуального присутствия платформы на рынке составляет примерно 11 лет.\n",
    "Наиболее популярные по продажам за всё время платформы: ps2, x360, ps3, wii, ds, ps.\n",
    "Продажи игр достигли своего пика в 2008 году и с того времени неуклонно падают.\n",
    "В 2016 году актуальными остаются платформы pc, psv, 3ds, wiiu, xone, ps4.\n",
    "Продажи по ним будут ниже, чем в 2016 году.\n",
    "Наиболее популярные жанры - platform,shooter,sports\n",
    "Для некоторых платформ характерно слабое влияние на продажи рейтинга игр от критиков.\n",
    "Влияние рейтинга от пользователей на продажи игр практически отсутствует.\n",
    "Регионы Северная Америка и Европа похожи по своим предпочтениям по жанрам игр, Япония от них существенно отличается.\n",
    "В целом, считаю снижение продаж игр закономерным, вследствие переноса интереса пользователей в сторону: * Игр на мобильных платформах (Android, IOS). * Бесплатных онлайн-игр с донатами."
   ]
  }
 ],
 "metadata": {
  "ExecuteTimeLog": [
   {
    "duration": 1353,
    "start_time": "2023-02-28T18:04:31.091Z"
   },
   {
    "duration": 135,
    "start_time": "2023-02-28T18:05:04.225Z"
   },
   {
    "duration": 90,
    "start_time": "2023-02-28T18:05:49.260Z"
   },
   {
    "duration": 481,
    "start_time": "2023-02-28T18:05:58.614Z"
   },
   {
    "duration": 14,
    "start_time": "2023-02-28T18:06:36.562Z"
   },
   {
    "duration": 18,
    "start_time": "2023-02-28T18:08:59.470Z"
   },
   {
    "duration": 19,
    "start_time": "2023-02-28T18:09:03.039Z"
   },
   {
    "duration": 30,
    "start_time": "2023-02-28T18:09:17.594Z"
   },
   {
    "duration": 5,
    "start_time": "2023-02-28T18:13:11.767Z"
   },
   {
    "duration": 64,
    "start_time": "2023-02-28T23:21:11.436Z"
   },
   {
    "duration": 58,
    "start_time": "2023-02-28T23:21:59.364Z"
   },
   {
    "duration": 1497,
    "start_time": "2023-02-28T23:22:06.995Z"
   },
   {
    "duration": 117,
    "start_time": "2023-02-28T23:22:08.494Z"
   },
   {
    "duration": 21,
    "start_time": "2023-02-28T23:22:08.919Z"
   },
   {
    "duration": 34,
    "start_time": "2023-02-28T23:22:12.028Z"
   },
   {
    "duration": 4,
    "start_time": "2023-02-28T23:22:14.175Z"
   },
   {
    "duration": 62,
    "start_time": "2023-02-28T23:22:16.025Z"
   },
   {
    "duration": 4,
    "start_time": "2023-02-28T23:22:23.587Z"
   },
   {
    "duration": 27,
    "start_time": "2023-02-28T23:22:29.075Z"
   },
   {
    "duration": 12,
    "start_time": "2023-02-28T23:30:59.932Z"
   },
   {
    "duration": 8,
    "start_time": "2023-02-28T23:32:08.750Z"
   },
   {
    "duration": 16,
    "start_time": "2023-02-28T23:32:24.204Z"
   },
   {
    "duration": 8,
    "start_time": "2023-02-28T23:33:10.084Z"
   },
   {
    "duration": 877,
    "start_time": "2023-02-28T23:47:56.218Z"
   },
   {
    "duration": 16,
    "start_time": "2023-02-28T23:48:32.056Z"
   },
   {
    "duration": 4,
    "start_time": "2023-02-28T23:48:48.477Z"
   },
   {
    "duration": 7,
    "start_time": "2023-02-28T23:49:43.290Z"
   },
   {
    "duration": 5,
    "start_time": "2023-02-28T23:49:50.123Z"
   },
   {
    "duration": 5,
    "start_time": "2023-02-28T23:51:37.927Z"
   },
   {
    "duration": 5,
    "start_time": "2023-02-28T23:51:59.078Z"
   },
   {
    "duration": 5,
    "start_time": "2023-02-28T23:52:00.726Z"
   },
   {
    "duration": 5,
    "start_time": "2023-02-28T23:52:01.261Z"
   },
   {
    "duration": 7,
    "start_time": "2023-02-28T23:54:30.310Z"
   },
   {
    "duration": 4,
    "start_time": "2023-02-28T23:55:17.098Z"
   },
   {
    "duration": 15,
    "start_time": "2023-02-28T23:55:41.999Z"
   },
   {
    "duration": 17,
    "start_time": "2023-02-28T23:57:14.999Z"
   },
   {
    "duration": 6,
    "start_time": "2023-02-28T23:57:22.119Z"
   },
   {
    "duration": 16,
    "start_time": "2023-02-28T23:57:51.017Z"
   },
   {
    "duration": 6,
    "start_time": "2023-03-01T00:04:00.428Z"
   },
   {
    "duration": 23,
    "start_time": "2023-03-01T00:04:17.222Z"
   },
   {
    "duration": 4,
    "start_time": "2023-03-01T00:04:33.490Z"
   },
   {
    "duration": 19,
    "start_time": "2023-03-01T00:04:34.141Z"
   },
   {
    "duration": 4,
    "start_time": "2023-03-01T00:04:43.313Z"
   },
   {
    "duration": 18,
    "start_time": "2023-03-01T00:04:44.702Z"
   },
   {
    "duration": 10,
    "start_time": "2023-03-01T00:04:54.296Z"
   },
   {
    "duration": 8,
    "start_time": "2023-03-01T00:06:43.242Z"
   },
   {
    "duration": 22,
    "start_time": "2023-03-01T00:07:07.339Z"
   },
   {
    "duration": 17,
    "start_time": "2023-03-01T00:08:40.080Z"
   },
   {
    "duration": 11,
    "start_time": "2023-03-01T00:10:18.653Z"
   },
   {
    "duration": 6,
    "start_time": "2023-03-01T00:10:27.137Z"
   },
   {
    "duration": 9,
    "start_time": "2023-03-01T00:10:35.881Z"
   },
   {
    "duration": 17,
    "start_time": "2023-03-01T00:10:56.992Z"
   },
   {
    "duration": 19,
    "start_time": "2023-03-01T00:13:21.318Z"
   },
   {
    "duration": 1422,
    "start_time": "2023-03-02T19:19:55.010Z"
   },
   {
    "duration": 117,
    "start_time": "2023-03-02T19:19:56.435Z"
   },
   {
    "duration": 14,
    "start_time": "2023-03-02T19:19:56.554Z"
   },
   {
    "duration": 33,
    "start_time": "2023-03-02T19:19:57.604Z"
   },
   {
    "duration": 5,
    "start_time": "2023-03-02T19:19:59.099Z"
   },
   {
    "duration": 5,
    "start_time": "2023-03-02T19:20:03.432Z"
   },
   {
    "duration": 6,
    "start_time": "2023-03-02T19:20:04.694Z"
   },
   {
    "duration": 5,
    "start_time": "2023-03-02T19:20:06.091Z"
   },
   {
    "duration": 5,
    "start_time": "2023-03-02T19:20:06.629Z"
   },
   {
    "duration": 4,
    "start_time": "2023-03-02T19:20:08.100Z"
   },
   {
    "duration": 10,
    "start_time": "2023-03-02T19:20:09.319Z"
   },
   {
    "duration": 5,
    "start_time": "2023-03-02T19:20:10.044Z"
   },
   {
    "duration": 17,
    "start_time": "2023-03-02T19:20:10.613Z"
   },
   {
    "duration": 7,
    "start_time": "2023-03-02T19:20:12.473Z"
   },
   {
    "duration": 17,
    "start_time": "2023-03-02T19:20:56.120Z"
   },
   {
    "duration": 18,
    "start_time": "2023-03-02T19:21:19.950Z"
   },
   {
    "duration": 11,
    "start_time": "2023-03-02T19:23:01.532Z"
   },
   {
    "duration": 6,
    "start_time": "2023-03-02T19:31:33.433Z"
   },
   {
    "duration": 6,
    "start_time": "2023-03-02T19:31:42.786Z"
   },
   {
    "duration": 7,
    "start_time": "2023-03-02T19:36:47.692Z"
   },
   {
    "duration": 1156,
    "start_time": "2023-03-02T19:41:26.332Z"
   },
   {
    "duration": 73,
    "start_time": "2023-03-02T19:41:27.490Z"
   },
   {
    "duration": 17,
    "start_time": "2023-03-02T19:41:32.276Z"
   },
   {
    "duration": 31,
    "start_time": "2023-03-02T19:41:36.029Z"
   },
   {
    "duration": 6,
    "start_time": "2023-03-02T19:41:38.936Z"
   },
   {
    "duration": 3,
    "start_time": "2023-03-02T19:42:03.495Z"
   },
   {
    "duration": 6,
    "start_time": "2023-03-02T19:42:33.109Z"
   },
   {
    "duration": 11,
    "start_time": "2023-03-02T19:42:57.841Z"
   },
   {
    "duration": 94,
    "start_time": "2023-03-02T19:44:35.904Z"
   },
   {
    "duration": 26,
    "start_time": "2023-03-02T19:47:06.067Z"
   },
   {
    "duration": 44,
    "start_time": "2023-03-02T19:47:13.608Z"
   },
   {
    "duration": 13,
    "start_time": "2023-03-02T19:47:54.621Z"
   },
   {
    "duration": 90,
    "start_time": "2023-03-02T19:49:25.886Z"
   },
   {
    "duration": 15,
    "start_time": "2023-03-02T19:51:22.718Z"
   },
   {
    "duration": 9,
    "start_time": "2023-03-02T19:51:25.675Z"
   },
   {
    "duration": 19,
    "start_time": "2023-03-02T19:51:35.446Z"
   },
   {
    "duration": 7,
    "start_time": "2023-03-02T19:51:56.195Z"
   },
   {
    "duration": 5,
    "start_time": "2023-03-02T19:51:59.075Z"
   },
   {
    "duration": 4,
    "start_time": "2023-03-02T19:52:10.931Z"
   },
   {
    "duration": 4,
    "start_time": "2023-03-02T19:52:41.391Z"
   },
   {
    "duration": 1919,
    "start_time": "2023-03-04T20:51:01.392Z"
   },
   {
    "duration": 292,
    "start_time": "2023-03-04T20:51:04.646Z"
   },
   {
    "duration": 47,
    "start_time": "2023-03-04T20:51:07.848Z"
   },
   {
    "duration": 52,
    "start_time": "2023-03-04T20:51:09.176Z"
   },
   {
    "duration": 7,
    "start_time": "2023-03-04T20:51:10.981Z"
   },
   {
    "duration": 10,
    "start_time": "2023-03-04T20:51:13.974Z"
   },
   {
    "duration": 15,
    "start_time": "2023-03-04T20:51:16.484Z"
   },
   {
    "duration": 10,
    "start_time": "2023-03-04T20:51:19.006Z"
   },
   {
    "duration": 4,
    "start_time": "2023-03-04T20:51:19.896Z"
   },
   {
    "duration": 150,
    "start_time": "2023-03-04T20:51:53.755Z"
   },
   {
    "duration": 19,
    "start_time": "2023-03-04T20:52:12.149Z"
   },
   {
    "duration": 66,
    "start_time": "2023-03-04T20:52:24.506Z"
   },
   {
    "duration": 30,
    "start_time": "2023-03-04T20:52:36.060Z"
   },
   {
    "duration": 4,
    "start_time": "2023-03-04T20:53:11.290Z"
   },
   {
    "duration": 82,
    "start_time": "2023-03-04T20:53:36.650Z"
   },
   {
    "duration": 10,
    "start_time": "2023-03-04T20:53:51.986Z"
   },
   {
    "duration": 21,
    "start_time": "2023-03-04T20:55:56.915Z"
   },
   {
    "duration": 10,
    "start_time": "2023-03-04T20:56:00.279Z"
   },
   {
    "duration": 9,
    "start_time": "2023-03-04T20:56:02.989Z"
   },
   {
    "duration": 8,
    "start_time": "2023-03-04T20:56:57.202Z"
   },
   {
    "duration": 14,
    "start_time": "2023-03-04T20:57:29.955Z"
   },
   {
    "duration": 27,
    "start_time": "2023-03-04T20:58:05.984Z"
   },
   {
    "duration": 4,
    "start_time": "2023-03-04T20:58:24.554Z"
   },
   {
    "duration": 5,
    "start_time": "2023-03-04T20:58:28.554Z"
   },
   {
    "duration": 28,
    "start_time": "2023-03-04T20:59:31.050Z"
   },
   {
    "duration": 21,
    "start_time": "2023-03-04T20:59:45.772Z"
   },
   {
    "duration": 4,
    "start_time": "2023-03-04T21:01:42.064Z"
   },
   {
    "duration": 6,
    "start_time": "2023-03-04T21:03:48.864Z"
   },
   {
    "duration": 8,
    "start_time": "2023-03-04T21:04:09.661Z"
   },
   {
    "duration": 7,
    "start_time": "2023-03-04T21:05:17.242Z"
   },
   {
    "duration": 7,
    "start_time": "2023-03-04T21:05:39.400Z"
   },
   {
    "duration": 7,
    "start_time": "2023-03-04T21:08:15.884Z"
   },
   {
    "duration": 9,
    "start_time": "2023-03-04T21:08:33.855Z"
   },
   {
    "duration": 7,
    "start_time": "2023-03-04T21:08:48.581Z"
   },
   {
    "duration": 1525,
    "start_time": "2023-03-04T21:09:02.846Z"
   },
   {
    "duration": 11,
    "start_time": "2023-03-04T21:09:11.146Z"
   },
   {
    "duration": 1666,
    "start_time": "2023-03-04T21:11:17.042Z"
   },
   {
    "duration": 9,
    "start_time": "2023-03-04T21:11:41.118Z"
   },
   {
    "duration": 9,
    "start_time": "2023-03-04T21:12:00.659Z"
   },
   {
    "duration": 10,
    "start_time": "2023-03-04T21:15:09.179Z"
   },
   {
    "duration": 9,
    "start_time": "2023-03-04T21:15:55.228Z"
   },
   {
    "duration": 22,
    "start_time": "2023-03-04T21:16:10.987Z"
   },
   {
    "duration": 6,
    "start_time": "2023-03-04T21:19:21.968Z"
   },
   {
    "duration": 23,
    "start_time": "2023-03-04T21:19:22.637Z"
   },
   {
    "duration": 5,
    "start_time": "2023-03-04T21:21:42.670Z"
   },
   {
    "duration": 25,
    "start_time": "2023-03-04T21:21:50.619Z"
   },
   {
    "duration": 10,
    "start_time": "2023-03-04T21:22:59.599Z"
   },
   {
    "duration": 16,
    "start_time": "2023-03-04T21:23:20.478Z"
   },
   {
    "duration": 31,
    "start_time": "2023-03-04T21:23:25.824Z"
   },
   {
    "duration": 16,
    "start_time": "2023-03-04T21:27:31.401Z"
   },
   {
    "duration": 12,
    "start_time": "2023-03-04T21:28:41.996Z"
   },
   {
    "duration": 40,
    "start_time": "2023-03-04T21:28:56.604Z"
   },
   {
    "duration": 8,
    "start_time": "2023-03-04T21:29:36.480Z"
   },
   {
    "duration": 6,
    "start_time": "2023-03-04T21:30:06.380Z"
   },
   {
    "duration": 7,
    "start_time": "2023-03-04T21:30:19.487Z"
   },
   {
    "duration": 12,
    "start_time": "2023-03-04T21:30:23.524Z"
   },
   {
    "duration": 188,
    "start_time": "2023-03-04T21:30:31.917Z"
   },
   {
    "duration": 135,
    "start_time": "2023-03-04T21:36:14.016Z"
   },
   {
    "duration": 10,
    "start_time": "2023-03-04T21:36:17.608Z"
   },
   {
    "duration": 204,
    "start_time": "2023-03-04T21:36:43.170Z"
   },
   {
    "duration": 412,
    "start_time": "2023-03-04T21:37:13.847Z"
   },
   {
    "duration": 368,
    "start_time": "2023-03-04T21:37:27.020Z"
   },
   {
    "duration": 511,
    "start_time": "2023-03-04T21:37:34.761Z"
   },
   {
    "duration": 361,
    "start_time": "2023-03-04T21:37:44.244Z"
   },
   {
    "duration": 248,
    "start_time": "2023-03-04T21:38:03.585Z"
   },
   {
    "duration": 165,
    "start_time": "2023-03-04T21:38:27.582Z"
   },
   {
    "duration": 234,
    "start_time": "2023-03-04T21:38:34.045Z"
   },
   {
    "duration": 190,
    "start_time": "2023-03-04T21:38:47.191Z"
   },
   {
    "duration": 196,
    "start_time": "2023-03-04T21:39:09.541Z"
   },
   {
    "duration": 191,
    "start_time": "2023-03-04T21:39:22.056Z"
   },
   {
    "duration": 16,
    "start_time": "2023-03-04T21:41:24.452Z"
   },
   {
    "duration": 229,
    "start_time": "2023-03-04T21:53:23.174Z"
   },
   {
    "duration": 182,
    "start_time": "2023-03-04T21:53:31.450Z"
   },
   {
    "duration": 10,
    "start_time": "2023-03-04T22:11:59.984Z"
   },
   {
    "duration": 11,
    "start_time": "2023-03-04T22:12:07.871Z"
   },
   {
    "duration": 10,
    "start_time": "2023-03-04T22:12:25.471Z"
   },
   {
    "duration": 11,
    "start_time": "2023-03-04T22:12:28.875Z"
   },
   {
    "duration": 13,
    "start_time": "2023-03-04T22:12:35.827Z"
   },
   {
    "duration": 16,
    "start_time": "2023-03-04T22:13:03.483Z"
   },
   {
    "duration": 111,
    "start_time": "2023-03-04T22:13:42.516Z"
   },
   {
    "duration": 98,
    "start_time": "2023-03-04T22:14:08.953Z"
   },
   {
    "duration": 9,
    "start_time": "2023-03-04T22:14:11.965Z"
   },
   {
    "duration": 11,
    "start_time": "2023-03-04T22:14:38.948Z"
   },
   {
    "duration": 12,
    "start_time": "2023-03-04T22:14:41.242Z"
   },
   {
    "duration": 11,
    "start_time": "2023-03-04T22:15:16.653Z"
   },
   {
    "duration": 24,
    "start_time": "2023-03-04T22:15:18.217Z"
   },
   {
    "duration": 159,
    "start_time": "2023-03-04T22:18:56.612Z"
   },
   {
    "duration": 15,
    "start_time": "2023-03-04T22:19:06.071Z"
   },
   {
    "duration": 13,
    "start_time": "2023-03-04T22:19:11.205Z"
   },
   {
    "duration": 280,
    "start_time": "2023-03-04T22:19:38.089Z"
   },
   {
    "duration": 1425,
    "start_time": "2023-03-04T22:22:17.194Z"
   },
   {
    "duration": 175,
    "start_time": "2023-03-04T22:31:12.667Z"
   },
   {
    "duration": 1453,
    "start_time": "2023-03-04T22:34:27.911Z"
   },
   {
    "duration": 289,
    "start_time": "2023-03-04T22:35:01.496Z"
   },
   {
    "duration": 144,
    "start_time": "2023-03-04T22:37:55.866Z"
   },
   {
    "duration": 156,
    "start_time": "2023-03-04T22:38:28.643Z"
   },
   {
    "duration": 12,
    "start_time": "2023-03-04T22:39:49.667Z"
   },
   {
    "duration": 15,
    "start_time": "2023-03-04T22:45:12.657Z"
   },
   {
    "duration": 1289,
    "start_time": "2023-03-04T22:45:20.368Z"
   },
   {
    "duration": 1266,
    "start_time": "2023-03-04T22:46:42.939Z"
   },
   {
    "duration": 153,
    "start_time": "2023-03-04T22:47:42.238Z"
   },
   {
    "duration": 208,
    "start_time": "2023-03-04T22:48:06.568Z"
   },
   {
    "duration": 182,
    "start_time": "2023-03-04T22:49:11.435Z"
   },
   {
    "duration": 209,
    "start_time": "2023-03-04T22:49:38.304Z"
   },
   {
    "duration": 206,
    "start_time": "2023-03-04T22:50:04.663Z"
   },
   {
    "duration": 211,
    "start_time": "2023-03-04T22:50:31.581Z"
   },
   {
    "duration": 190,
    "start_time": "2023-03-04T22:50:39.694Z"
   },
   {
    "duration": 185,
    "start_time": "2023-03-04T22:52:33.532Z"
   },
   {
    "duration": 175,
    "start_time": "2023-03-04T22:57:11.997Z"
   },
   {
    "duration": 287,
    "start_time": "2023-03-04T22:57:21.804Z"
   },
   {
    "duration": 381,
    "start_time": "2023-03-04T23:05:04.105Z"
   },
   {
    "duration": 313,
    "start_time": "2023-03-04T23:06:00.470Z"
   },
   {
    "duration": 336,
    "start_time": "2023-03-04T23:06:13.375Z"
   },
   {
    "duration": 342,
    "start_time": "2023-03-04T23:06:19.633Z"
   },
   {
    "duration": 375,
    "start_time": "2023-03-04T23:06:31.889Z"
   },
   {
    "duration": 338,
    "start_time": "2023-03-04T23:06:45.806Z"
   },
   {
    "duration": 17,
    "start_time": "2023-03-04T23:15:53.272Z"
   },
   {
    "duration": 9,
    "start_time": "2023-03-04T23:16:03.752Z"
   },
   {
    "duration": 19,
    "start_time": "2023-03-04T23:16:24.400Z"
   },
   {
    "duration": 22,
    "start_time": "2023-03-04T23:16:46.633Z"
   },
   {
    "duration": 11,
    "start_time": "2023-03-04T23:21:47.182Z"
   },
   {
    "duration": 10,
    "start_time": "2023-03-04T23:22:04.827Z"
   },
   {
    "duration": 11,
    "start_time": "2023-03-04T23:22:27.515Z"
   },
   {
    "duration": 13,
    "start_time": "2023-03-04T23:22:49.107Z"
   },
   {
    "duration": 9,
    "start_time": "2023-03-04T23:26:44.971Z"
   },
   {
    "duration": 9,
    "start_time": "2023-03-04T23:26:57.460Z"
   },
   {
    "duration": 9,
    "start_time": "2023-03-04T23:27:00.482Z"
   },
   {
    "duration": 9,
    "start_time": "2023-03-04T23:27:02.941Z"
   },
   {
    "duration": 9,
    "start_time": "2023-03-04T23:30:07.869Z"
   },
   {
    "duration": 10,
    "start_time": "2023-03-04T23:30:24.131Z"
   },
   {
    "duration": 3,
    "start_time": "2023-03-04T23:30:31.807Z"
   },
   {
    "duration": 14,
    "start_time": "2023-03-04T23:30:44.520Z"
   },
   {
    "duration": 9,
    "start_time": "2023-03-04T23:30:50.206Z"
   },
   {
    "duration": 14,
    "start_time": "2023-03-04T23:30:56.638Z"
   },
   {
    "duration": 322,
    "start_time": "2023-03-04T23:31:05.364Z"
   },
   {
    "duration": 3442,
    "start_time": "2023-03-04T23:31:28.829Z"
   },
   {
    "duration": 14,
    "start_time": "2023-03-04T23:31:56.076Z"
   },
   {
    "duration": 28,
    "start_time": "2023-03-04T23:32:07.035Z"
   },
   {
    "duration": 10,
    "start_time": "2023-03-04T23:32:26.519Z"
   },
   {
    "duration": 10,
    "start_time": "2023-03-04T23:32:35.309Z"
   },
   {
    "duration": 15,
    "start_time": "2023-03-04T23:32:39.001Z"
   },
   {
    "duration": 22,
    "start_time": "2023-03-04T23:32:51.303Z"
   },
   {
    "duration": 10,
    "start_time": "2023-03-04T23:34:28.014Z"
   },
   {
    "duration": 10,
    "start_time": "2023-03-04T23:34:35.734Z"
   },
   {
    "duration": 9,
    "start_time": "2023-03-04T23:34:58.599Z"
   },
   {
    "duration": 4,
    "start_time": "2023-03-04T23:35:06.659Z"
   },
   {
    "duration": 4,
    "start_time": "2023-03-04T23:35:21.779Z"
   },
   {
    "duration": 10,
    "start_time": "2023-03-04T23:35:24.779Z"
   },
   {
    "duration": 11,
    "start_time": "2023-03-04T23:35:32.257Z"
   },
   {
    "duration": 9,
    "start_time": "2023-03-04T23:35:33.156Z"
   },
   {
    "duration": 365,
    "start_time": "2023-03-04T23:35:34.100Z"
   },
   {
    "duration": 10,
    "start_time": "2023-03-04T23:35:37.423Z"
   },
   {
    "duration": 30,
    "start_time": "2023-03-04T23:40:57.516Z"
   },
   {
    "duration": 27,
    "start_time": "2023-03-04T23:41:39.901Z"
   },
   {
    "duration": 34,
    "start_time": "2023-03-04T23:42:02.314Z"
   },
   {
    "duration": 1560,
    "start_time": "2023-03-04T23:42:26.227Z"
   },
   {
    "duration": 1561,
    "start_time": "2023-03-04T23:43:30.918Z"
   },
   {
    "duration": 75,
    "start_time": "2023-03-04T23:44:43.256Z"
   },
   {
    "duration": 94,
    "start_time": "2023-03-04T23:44:46.282Z"
   },
   {
    "duration": 80,
    "start_time": "2023-03-04T23:45:05.815Z"
   },
   {
    "duration": 79,
    "start_time": "2023-03-04T23:45:11.848Z"
   },
   {
    "duration": 82,
    "start_time": "2023-03-04T23:45:23.445Z"
   },
   {
    "duration": 1606,
    "start_time": "2023-03-04T23:45:47.508Z"
   },
   {
    "duration": 31,
    "start_time": "2023-03-04T23:58:10.623Z"
   },
   {
    "duration": 1933,
    "start_time": "2023-03-04T23:59:15.929Z"
   },
   {
    "duration": 2118,
    "start_time": "2023-03-04T23:59:48.971Z"
   },
   {
    "duration": 81,
    "start_time": "2023-03-05T00:00:35.630Z"
   },
   {
    "duration": 76,
    "start_time": "2023-03-05T00:00:41.577Z"
   },
   {
    "duration": 21969,
    "start_time": "2023-03-05T00:00:56.397Z"
   },
   {
    "duration": 73,
    "start_time": "2023-03-05T00:01:51.989Z"
   },
   {
    "duration": 20,
    "start_time": "2023-03-05T00:02:05.199Z"
   },
   {
    "duration": 3310,
    "start_time": "2023-03-05T00:02:26.676Z"
   },
   {
    "duration": 5,
    "start_time": "2023-03-05T00:14:21.737Z"
   },
   {
    "duration": 8,
    "start_time": "2023-03-05T00:14:43.863Z"
   },
   {
    "duration": 355,
    "start_time": "2023-03-05T00:14:47.550Z"
   },
   {
    "duration": 10,
    "start_time": "2023-03-05T00:14:52.582Z"
   },
   {
    "duration": 9,
    "start_time": "2023-03-05T00:14:54.710Z"
   },
   {
    "duration": 9,
    "start_time": "2023-03-05T00:14:58.440Z"
   },
   {
    "duration": 29,
    "start_time": "2023-03-05T00:18:15.840Z"
   },
   {
    "duration": 14,
    "start_time": "2023-03-05T00:18:50.268Z"
   },
   {
    "duration": 196,
    "start_time": "2023-03-05T00:19:46.558Z"
   },
   {
    "duration": 200,
    "start_time": "2023-03-05T00:20:39.236Z"
   },
   {
    "duration": 136,
    "start_time": "2023-03-05T00:21:01.348Z"
   },
   {
    "duration": 135,
    "start_time": "2023-03-05T00:21:48.357Z"
   },
   {
    "duration": 83,
    "start_time": "2023-03-05T00:25:27.955Z"
   },
   {
    "duration": 81,
    "start_time": "2023-03-05T00:26:24.306Z"
   },
   {
    "duration": 181,
    "start_time": "2023-03-05T00:26:37.177Z"
   },
   {
    "duration": 162,
    "start_time": "2023-03-05T00:27:06.731Z"
   },
   {
    "duration": 174,
    "start_time": "2023-03-05T00:27:14.483Z"
   },
   {
    "duration": 76,
    "start_time": "2023-03-05T01:48:31.902Z"
   },
   {
    "duration": 81,
    "start_time": "2023-03-05T01:48:44.661Z"
   },
   {
    "duration": 75,
    "start_time": "2023-03-05T01:49:03.275Z"
   },
   {
    "duration": 75,
    "start_time": "2023-03-05T01:49:52.496Z"
   },
   {
    "duration": 43,
    "start_time": "2023-03-05T01:51:06.869Z"
   },
   {
    "duration": 1255,
    "start_time": "2023-03-05T01:51:16.223Z"
   },
   {
    "duration": 110,
    "start_time": "2023-03-05T01:51:17.480Z"
   },
   {
    "duration": 14,
    "start_time": "2023-03-05T01:51:17.944Z"
   },
   {
    "duration": 28,
    "start_time": "2023-03-05T01:51:18.842Z"
   },
   {
    "duration": 3,
    "start_time": "2023-03-05T01:51:19.757Z"
   },
   {
    "duration": 3,
    "start_time": "2023-03-05T01:51:22.218Z"
   },
   {
    "duration": 9,
    "start_time": "2023-03-05T01:51:22.910Z"
   },
   {
    "duration": 9,
    "start_time": "2023-03-05T01:51:23.491Z"
   },
   {
    "duration": 3,
    "start_time": "2023-03-05T01:51:24.009Z"
   },
   {
    "duration": 13,
    "start_time": "2023-03-05T01:51:24.526Z"
   },
   {
    "duration": 3,
    "start_time": "2023-03-05T01:51:24.885Z"
   },
   {
    "duration": 6,
    "start_time": "2023-03-05T01:51:25.270Z"
   },
   {
    "duration": 6,
    "start_time": "2023-03-05T01:51:25.450Z"
   },
   {
    "duration": 5,
    "start_time": "2023-03-05T01:51:25.761Z"
   },
   {
    "duration": 4,
    "start_time": "2023-03-05T01:51:26.129Z"
   },
   {
    "duration": 4,
    "start_time": "2023-03-05T01:51:26.417Z"
   },
   {
    "duration": 5,
    "start_time": "2023-03-05T01:51:26.578Z"
   },
   {
    "duration": 4,
    "start_time": "2023-03-05T01:51:26.721Z"
   },
   {
    "duration": 13,
    "start_time": "2023-03-05T01:51:26.876Z"
   },
   {
    "duration": 4,
    "start_time": "2023-03-05T01:51:27.022Z"
   },
   {
    "duration": 12,
    "start_time": "2023-03-05T01:51:27.363Z"
   },
   {
    "duration": 14,
    "start_time": "2023-03-05T01:51:27.840Z"
   },
   {
    "duration": 12,
    "start_time": "2023-03-05T01:51:28.957Z"
   },
   {
    "duration": 6,
    "start_time": "2023-03-05T01:51:29.725Z"
   },
   {
    "duration": 10,
    "start_time": "2023-03-05T01:51:35.751Z"
   },
   {
    "duration": 11,
    "start_time": "2023-03-05T01:51:56.389Z"
   },
   {
    "duration": 8,
    "start_time": "2023-03-05T01:51:58.513Z"
   },
   {
    "duration": 10,
    "start_time": "2023-03-05T01:52:24.865Z"
   },
   {
    "duration": 8,
    "start_time": "2023-03-05T01:52:25.546Z"
   },
   {
    "duration": 283,
    "start_time": "2023-03-05T01:52:31.926Z"
   },
   {
    "duration": 86,
    "start_time": "2023-03-05T01:52:42.307Z"
   },
   {
    "duration": 90,
    "start_time": "2023-03-05T01:52:59.186Z"
   },
   {
    "duration": 74,
    "start_time": "2023-03-05T02:15:43.603Z"
   },
   {
    "duration": 82,
    "start_time": "2023-03-05T02:17:58.599Z"
   },
   {
    "duration": 1835,
    "start_time": "2023-03-05T02:18:33.111Z"
   },
   {
    "duration": 1745,
    "start_time": "2023-03-05T02:20:14.448Z"
   },
   {
    "duration": 2018,
    "start_time": "2023-03-05T02:20:59.816Z"
   },
   {
    "duration": 83,
    "start_time": "2023-03-05T02:21:26.758Z"
   },
   {
    "duration": 21,
    "start_time": "2023-03-05T02:21:36.955Z"
   },
   {
    "duration": 1144,
    "start_time": "2023-03-05T02:22:34.034Z"
   },
   {
    "duration": 291,
    "start_time": "2023-03-05T02:23:08.503Z"
   },
   {
    "duration": 1232,
    "start_time": "2023-03-05T02:23:31.448Z"
   },
   {
    "duration": 1251,
    "start_time": "2023-03-05T02:23:45.856Z"
   },
   {
    "duration": 1104,
    "start_time": "2023-03-05T02:24:04.259Z"
   },
   {
    "duration": 3,
    "start_time": "2023-03-05T02:41:09.124Z"
   },
   {
    "duration": 3,
    "start_time": "2023-03-05T02:41:24.787Z"
   },
   {
    "duration": 74,
    "start_time": "2023-03-05T02:41:37.999Z"
   },
   {
    "duration": 4,
    "start_time": "2023-03-05T02:42:16.024Z"
   },
   {
    "duration": 13,
    "start_time": "2023-03-05T02:42:23.738Z"
   },
   {
    "duration": 5,
    "start_time": "2023-03-05T02:42:48.242Z"
   },
   {
    "duration": 4,
    "start_time": "2023-03-05T02:43:08.828Z"
   },
   {
    "duration": 7,
    "start_time": "2023-03-05T02:46:36.042Z"
   },
   {
    "duration": 6,
    "start_time": "2023-03-05T02:46:44.831Z"
   },
   {
    "duration": 1440,
    "start_time": "2023-03-05T20:18:34.740Z"
   },
   {
    "duration": 108,
    "start_time": "2023-03-05T20:18:36.182Z"
   },
   {
    "duration": 13,
    "start_time": "2023-03-05T20:18:36.291Z"
   },
   {
    "duration": 34,
    "start_time": "2023-03-05T20:18:36.306Z"
   },
   {
    "duration": 6,
    "start_time": "2023-03-05T20:18:36.342Z"
   },
   {
    "duration": 12,
    "start_time": "2023-03-05T20:18:36.349Z"
   },
   {
    "duration": 12,
    "start_time": "2023-03-05T20:18:36.362Z"
   },
   {
    "duration": 19,
    "start_time": "2023-03-05T20:18:36.376Z"
   },
   {
    "duration": 4,
    "start_time": "2023-03-05T20:18:36.397Z"
   },
   {
    "duration": 16,
    "start_time": "2023-03-05T20:18:36.403Z"
   },
   {
    "duration": 10,
    "start_time": "2023-03-05T20:18:36.420Z"
   },
   {
    "duration": 10,
    "start_time": "2023-03-05T20:18:36.431Z"
   },
   {
    "duration": 11,
    "start_time": "2023-03-05T20:18:36.442Z"
   },
   {
    "duration": 9,
    "start_time": "2023-03-05T20:18:36.454Z"
   },
   {
    "duration": 5,
    "start_time": "2023-03-05T20:18:36.465Z"
   },
   {
    "duration": 12,
    "start_time": "2023-03-05T20:18:36.472Z"
   },
   {
    "duration": 7,
    "start_time": "2023-03-05T20:18:36.485Z"
   },
   {
    "duration": 6,
    "start_time": "2023-03-05T20:18:36.493Z"
   },
   {
    "duration": 22,
    "start_time": "2023-03-05T20:18:36.500Z"
   },
   {
    "duration": 4,
    "start_time": "2023-03-05T20:18:36.524Z"
   },
   {
    "duration": 26,
    "start_time": "2023-03-05T20:18:36.530Z"
   },
   {
    "duration": 18,
    "start_time": "2023-03-05T20:18:36.558Z"
   },
   {
    "duration": 14,
    "start_time": "2023-03-05T20:18:36.577Z"
   },
   {
    "duration": 8,
    "start_time": "2023-03-05T20:18:36.592Z"
   },
   {
    "duration": 195,
    "start_time": "2023-03-05T20:18:36.601Z"
   },
   {
    "duration": 12,
    "start_time": "2023-03-05T20:18:36.797Z"
   },
   {
    "duration": 8,
    "start_time": "2023-03-05T20:18:36.810Z"
   },
   {
    "duration": 298,
    "start_time": "2023-03-05T20:18:36.820Z"
   },
   {
    "duration": 1275,
    "start_time": "2023-03-05T20:18:37.119Z"
   },
   {
    "duration": 4,
    "start_time": "2023-03-05T20:18:38.396Z"
   },
   {
    "duration": 11,
    "start_time": "2023-03-05T20:18:38.402Z"
   },
   {
    "duration": 11,
    "start_time": "2023-03-05T20:18:38.414Z"
   },
   {
    "duration": 12,
    "start_time": "2023-03-05T20:27:03.821Z"
   },
   {
    "duration": 11,
    "start_time": "2023-03-05T20:27:04.673Z"
   },
   {
    "duration": 11,
    "start_time": "2023-03-05T20:28:49.503Z"
   },
   {
    "duration": 11,
    "start_time": "2023-03-05T20:28:50.459Z"
   },
   {
    "duration": 206,
    "start_time": "2023-03-05T20:38:49.647Z"
   },
   {
    "duration": 146,
    "start_time": "2023-03-05T20:39:06.927Z"
   },
   {
    "duration": 5,
    "start_time": "2023-03-05T20:40:34.364Z"
   },
   {
    "duration": 162,
    "start_time": "2023-03-05T20:42:10.883Z"
   },
   {
    "duration": 1246,
    "start_time": "2023-03-05T20:43:07.273Z"
   },
   {
    "duration": 1696,
    "start_time": "2023-03-05T20:43:54.398Z"
   },
   {
    "duration": 92,
    "start_time": "2023-03-05T21:00:15.796Z"
   },
   {
    "duration": 1928,
    "start_time": "2023-03-05T21:00:23.607Z"
   },
   {
    "duration": 261,
    "start_time": "2023-03-05T21:00:56.364Z"
   },
   {
    "duration": 22,
    "start_time": "2023-03-05T21:05:34.858Z"
   },
   {
    "duration": 16,
    "start_time": "2023-03-05T21:06:13.044Z"
   },
   {
    "duration": 10,
    "start_time": "2023-03-05T21:06:21.916Z"
   },
   {
    "duration": 4,
    "start_time": "2023-03-05T21:06:27.586Z"
   },
   {
    "duration": 4,
    "start_time": "2023-03-05T21:06:32.006Z"
   },
   {
    "duration": 540,
    "start_time": "2023-03-05T21:07:15.718Z"
   },
   {
    "duration": 6,
    "start_time": "2023-03-05T21:08:31.964Z"
   },
   {
    "duration": 12,
    "start_time": "2023-03-05T21:08:45.086Z"
   },
   {
    "duration": 8,
    "start_time": "2023-03-05T21:08:58.438Z"
   },
   {
    "duration": 384,
    "start_time": "2023-03-05T21:12:49.027Z"
   },
   {
    "duration": 493,
    "start_time": "2023-03-05T21:15:35.750Z"
   },
   {
    "duration": 411,
    "start_time": "2023-03-05T21:16:09.179Z"
   },
   {
    "duration": 483,
    "start_time": "2023-03-05T21:16:19.078Z"
   },
   {
    "duration": 9,
    "start_time": "2023-03-05T21:18:51.675Z"
   },
   {
    "duration": 8,
    "start_time": "2023-03-05T21:18:59.213Z"
   },
   {
    "duration": 323,
    "start_time": "2023-03-05T21:23:54.606Z"
   },
   {
    "duration": 307,
    "start_time": "2023-03-05T21:24:20.717Z"
   },
   {
    "duration": 10,
    "start_time": "2023-03-05T21:27:25.569Z"
   },
   {
    "duration": 10,
    "start_time": "2023-03-05T21:27:46.211Z"
   },
   {
    "duration": 20,
    "start_time": "2023-03-05T21:27:53.095Z"
   },
   {
    "duration": 304,
    "start_time": "2023-03-05T21:28:41.313Z"
   },
   {
    "duration": 110,
    "start_time": "2023-03-05T21:41:49.475Z"
   },
   {
    "duration": 14,
    "start_time": "2023-03-05T22:53:22.202Z"
   },
   {
    "duration": 157,
    "start_time": "2023-03-05T22:53:42.227Z"
   },
   {
    "duration": 411,
    "start_time": "2023-03-05T23:00:24.672Z"
   },
   {
    "duration": 370,
    "start_time": "2023-03-05T23:00:51.631Z"
   },
   {
    "duration": 284,
    "start_time": "2023-03-05T23:01:13.397Z"
   },
   {
    "duration": 373,
    "start_time": "2023-03-05T23:03:41.414Z"
   },
   {
    "duration": 388,
    "start_time": "2023-03-05T23:03:59.705Z"
   },
   {
    "duration": 420,
    "start_time": "2023-03-05T23:04:10.578Z"
   },
   {
    "duration": 368,
    "start_time": "2023-03-05T23:04:58.308Z"
   },
   {
    "duration": 552,
    "start_time": "2023-03-05T23:05:04.916Z"
   },
   {
    "duration": 436,
    "start_time": "2023-03-05T23:05:10.406Z"
   },
   {
    "duration": 5,
    "start_time": "2023-03-05T23:08:16.240Z"
   },
   {
    "duration": 309,
    "start_time": "2023-03-05T23:09:17.334Z"
   },
   {
    "duration": 26,
    "start_time": "2023-03-05T23:25:33.812Z"
   },
   {
    "duration": 464,
    "start_time": "2023-03-05T23:28:32.951Z"
   },
   {
    "duration": 6,
    "start_time": "2023-03-05T23:28:56.010Z"
   },
   {
    "duration": 22,
    "start_time": "2023-03-05T23:29:05.052Z"
   },
   {
    "duration": 6,
    "start_time": "2023-03-05T23:30:36.007Z"
   },
   {
    "duration": 16,
    "start_time": "2023-03-05T23:30:36.868Z"
   },
   {
    "duration": 1284,
    "start_time": "2023-03-05T23:33:05.988Z"
   },
   {
    "duration": 142,
    "start_time": "2023-03-05T23:33:19.779Z"
   },
   {
    "duration": 184,
    "start_time": "2023-03-05T23:33:47.650Z"
   },
   {
    "duration": 148,
    "start_time": "2023-03-05T23:33:56.161Z"
   },
   {
    "duration": 144,
    "start_time": "2023-03-05T23:34:07.663Z"
   },
   {
    "duration": 5,
    "start_time": "2023-03-05T23:36:13.680Z"
   },
   {
    "duration": 145,
    "start_time": "2023-03-05T23:37:45.451Z"
   },
   {
    "duration": 142,
    "start_time": "2023-03-05T23:37:52.136Z"
   },
   {
    "duration": 154,
    "start_time": "2023-03-05T23:40:37.758Z"
   },
   {
    "duration": 5,
    "start_time": "2023-03-05T23:41:01.991Z"
   },
   {
    "duration": 94,
    "start_time": "2023-03-05T23:41:52.936Z"
   },
   {
    "duration": 1486,
    "start_time": "2023-03-06T02:26:23.997Z"
   },
   {
    "duration": 157,
    "start_time": "2023-03-06T02:26:25.486Z"
   },
   {
    "duration": 24,
    "start_time": "2023-03-06T02:26:25.644Z"
   },
   {
    "duration": 54,
    "start_time": "2023-03-06T02:26:25.671Z"
   },
   {
    "duration": 6,
    "start_time": "2023-03-06T02:26:25.728Z"
   },
   {
    "duration": 59,
    "start_time": "2023-03-06T02:26:25.737Z"
   },
   {
    "duration": 29,
    "start_time": "2023-03-06T02:26:25.799Z"
   },
   {
    "duration": 20,
    "start_time": "2023-03-06T02:26:25.831Z"
   },
   {
    "duration": 23,
    "start_time": "2023-03-06T02:26:25.859Z"
   },
   {
    "duration": 51,
    "start_time": "2023-03-06T02:26:25.884Z"
   },
   {
    "duration": 9,
    "start_time": "2023-03-06T02:26:25.937Z"
   },
   {
    "duration": 56,
    "start_time": "2023-03-06T02:26:25.947Z"
   },
   {
    "duration": 21,
    "start_time": "2023-03-06T02:26:26.005Z"
   },
   {
    "duration": 14,
    "start_time": "2023-03-06T02:26:26.030Z"
   },
   {
    "duration": 48,
    "start_time": "2023-03-06T02:26:26.045Z"
   },
   {
    "duration": 8,
    "start_time": "2023-03-06T02:26:26.097Z"
   },
   {
    "duration": 15,
    "start_time": "2023-03-06T02:26:26.107Z"
   },
   {
    "duration": 13,
    "start_time": "2023-03-06T02:26:26.124Z"
   },
   {
    "duration": 34,
    "start_time": "2023-03-06T02:26:26.139Z"
   },
   {
    "duration": 26,
    "start_time": "2023-03-06T02:26:26.178Z"
   },
   {
    "duration": 17,
    "start_time": "2023-03-06T02:26:26.206Z"
   },
   {
    "duration": 25,
    "start_time": "2023-03-06T02:26:26.225Z"
   },
   {
    "duration": 23,
    "start_time": "2023-03-06T02:26:26.252Z"
   },
   {
    "duration": 42,
    "start_time": "2023-03-06T02:26:26.277Z"
   },
   {
    "duration": 186,
    "start_time": "2023-03-06T02:26:26.320Z"
   },
   {
    "duration": 11,
    "start_time": "2023-03-06T02:26:26.508Z"
   },
   {
    "duration": 10,
    "start_time": "2023-03-06T02:26:26.521Z"
   },
   {
    "duration": 359,
    "start_time": "2023-03-06T02:26:26.532Z"
   },
   {
    "duration": 1522,
    "start_time": "2023-03-06T02:26:26.893Z"
   },
   {
    "duration": 6,
    "start_time": "2023-03-06T02:26:28.417Z"
   },
   {
    "duration": 406,
    "start_time": "2023-03-06T02:26:28.424Z"
   },
   {
    "duration": 368,
    "start_time": "2023-03-06T02:26:28.833Z"
   },
   {
    "duration": 26,
    "start_time": "2023-03-06T02:26:29.204Z"
   },
   {
    "duration": 20,
    "start_time": "2023-03-06T02:26:29.232Z"
   },
   {
    "duration": 51,
    "start_time": "2023-03-06T02:26:29.254Z"
   },
   {
    "duration": 175,
    "start_time": "2023-03-06T02:26:29.306Z"
   },
   {
    "duration": 5,
    "start_time": "2023-03-06T02:26:29.484Z"
   },
   {
    "duration": 191,
    "start_time": "2023-03-06T02:26:29.490Z"
   },
   {
    "duration": 12,
    "start_time": "2023-03-06T02:26:29.683Z"
   },
   {
    "duration": 119,
    "start_time": "2023-03-06T02:31:47.606Z"
   },
   {
    "duration": 172,
    "start_time": "2023-03-06T02:31:55.698Z"
   },
   {
    "duration": 18,
    "start_time": "2023-03-06T02:32:13.779Z"
   },
   {
    "duration": 326,
    "start_time": "2023-03-06T02:32:59.311Z"
   },
   {
    "duration": 6,
    "start_time": "2023-03-06T02:34:07.798Z"
   },
   {
    "duration": 36,
    "start_time": "2023-03-06T02:34:12.087Z"
   },
   {
    "duration": 153,
    "start_time": "2023-03-06T02:35:48.385Z"
   },
   {
    "duration": 223,
    "start_time": "2023-03-06T02:36:18.582Z"
   },
   {
    "duration": 193,
    "start_time": "2023-03-06T02:36:25.782Z"
   },
   {
    "duration": 206,
    "start_time": "2023-03-06T02:36:33.844Z"
   },
   {
    "duration": 198,
    "start_time": "2023-03-06T02:37:03.372Z"
   },
   {
    "duration": 186,
    "start_time": "2023-03-06T02:37:13.977Z"
   },
   {
    "duration": 7,
    "start_time": "2023-03-06T02:37:49.691Z"
   },
   {
    "duration": 257,
    "start_time": "2023-03-06T02:38:31.988Z"
   },
   {
    "duration": 406,
    "start_time": "2023-03-06T02:38:39.486Z"
   },
   {
    "duration": 182,
    "start_time": "2023-03-06T02:38:52.011Z"
   },
   {
    "duration": 21,
    "start_time": "2023-03-06T02:40:16.111Z"
   },
   {
    "duration": 210,
    "start_time": "2023-03-06T02:40:25.285Z"
   },
   {
    "duration": 14,
    "start_time": "2023-03-06T02:41:19.574Z"
   },
   {
    "duration": 180,
    "start_time": "2023-03-06T02:41:23.935Z"
   },
   {
    "duration": 12,
    "start_time": "2023-03-06T02:41:26.799Z"
   },
   {
    "duration": 205,
    "start_time": "2023-03-06T02:41:42.891Z"
   },
   {
    "duration": 6,
    "start_time": "2023-03-06T02:42:08.395Z"
   },
   {
    "duration": 18,
    "start_time": "2023-03-06T02:44:32.700Z"
   },
   {
    "duration": 22,
    "start_time": "2023-03-06T02:46:25.087Z"
   },
   {
    "duration": 14,
    "start_time": "2023-03-06T02:46:29.893Z"
   },
   {
    "duration": 6,
    "start_time": "2023-03-06T02:47:17.675Z"
   },
   {
    "duration": 9,
    "start_time": "2023-03-06T02:47:24.824Z"
   },
   {
    "duration": 155,
    "start_time": "2023-03-06T02:48:39.939Z"
   },
   {
    "duration": 128,
    "start_time": "2023-03-06T02:48:59.875Z"
   },
   {
    "duration": 124,
    "start_time": "2023-03-06T02:49:27.383Z"
   },
   {
    "duration": 130,
    "start_time": "2023-03-06T02:49:30.396Z"
   },
   {
    "duration": 1569,
    "start_time": "2023-03-06T02:49:47.472Z"
   },
   {
    "duration": 20,
    "start_time": "2023-03-06T02:50:41.115Z"
   },
   {
    "duration": 31,
    "start_time": "2023-03-06T02:52:14.943Z"
   },
   {
    "duration": 4,
    "start_time": "2023-03-06T02:52:19.141Z"
   },
   {
    "duration": 15,
    "start_time": "2023-03-06T02:52:19.793Z"
   },
   {
    "duration": 4,
    "start_time": "2023-03-06T02:53:42.416Z"
   },
   {
    "duration": 15,
    "start_time": "2023-03-06T02:53:43.492Z"
   },
   {
    "duration": 54,
    "start_time": "2023-03-06T02:55:49.150Z"
   },
   {
    "duration": 16,
    "start_time": "2023-03-06T02:55:49.886Z"
   },
   {
    "duration": 14,
    "start_time": "2023-03-06T02:55:50.515Z"
   },
   {
    "duration": 36,
    "start_time": "2023-03-06T02:56:30.138Z"
   },
   {
    "duration": 4,
    "start_time": "2023-03-06T02:56:31.369Z"
   },
   {
    "duration": 9,
    "start_time": "2023-03-06T02:56:31.627Z"
   },
   {
    "duration": 46,
    "start_time": "2023-03-06T02:57:14.542Z"
   },
   {
    "duration": 4,
    "start_time": "2023-03-06T02:57:15.036Z"
   },
   {
    "duration": 33,
    "start_time": "2023-03-06T02:57:15.373Z"
   },
   {
    "duration": 49,
    "start_time": "2023-03-06T02:57:58.855Z"
   },
   {
    "duration": 4,
    "start_time": "2023-03-06T02:57:59.274Z"
   },
   {
    "duration": 10,
    "start_time": "2023-03-06T02:57:59.738Z"
   },
   {
    "duration": 694,
    "start_time": "2023-03-06T02:58:38.486Z"
   },
   {
    "duration": 11,
    "start_time": "2023-03-06T02:58:39.243Z"
   },
   {
    "duration": 6,
    "start_time": "2023-03-06T02:58:43.482Z"
   },
   {
    "duration": 50,
    "start_time": "2023-03-06T02:59:03.472Z"
   },
   {
    "duration": 59,
    "start_time": "2023-03-06T03:00:56.226Z"
   },
   {
    "duration": 22,
    "start_time": "2023-03-06T03:02:48.625Z"
   },
   {
    "duration": 13,
    "start_time": "2023-03-06T03:02:53.805Z"
   },
   {
    "duration": 14,
    "start_time": "2023-03-06T03:02:57.198Z"
   },
   {
    "duration": 2830,
    "start_time": "2023-03-06T03:04:29.131Z"
   },
   {
    "duration": 42,
    "start_time": "2023-03-06T20:25:27.169Z"
   },
   {
    "duration": 1215,
    "start_time": "2023-03-06T20:25:33.508Z"
   },
   {
    "duration": 205,
    "start_time": "2023-03-06T20:25:34.725Z"
   },
   {
    "duration": 12,
    "start_time": "2023-03-06T20:25:34.931Z"
   },
   {
    "duration": 35,
    "start_time": "2023-03-06T20:25:34.944Z"
   },
   {
    "duration": 3,
    "start_time": "2023-03-06T20:25:34.981Z"
   },
   {
    "duration": 6,
    "start_time": "2023-03-06T20:25:34.985Z"
   },
   {
    "duration": 12,
    "start_time": "2023-03-06T20:25:34.992Z"
   },
   {
    "duration": 30,
    "start_time": "2023-03-06T20:25:35.005Z"
   },
   {
    "duration": 4,
    "start_time": "2023-03-06T20:25:35.037Z"
   },
   {
    "duration": 16,
    "start_time": "2023-03-06T20:25:35.042Z"
   },
   {
    "duration": 3,
    "start_time": "2023-03-06T20:25:35.059Z"
   },
   {
    "duration": 10,
    "start_time": "2023-03-06T20:25:35.064Z"
   },
   {
    "duration": 8,
    "start_time": "2023-03-06T20:25:35.075Z"
   },
   {
    "duration": 9,
    "start_time": "2023-03-06T20:25:35.086Z"
   },
   {
    "duration": 11,
    "start_time": "2023-03-06T20:25:35.096Z"
   },
   {
    "duration": 10,
    "start_time": "2023-03-06T20:25:35.109Z"
   },
   {
    "duration": 14,
    "start_time": "2023-03-06T20:25:35.120Z"
   },
   {
    "duration": 20,
    "start_time": "2023-03-06T20:25:35.135Z"
   },
   {
    "duration": 16,
    "start_time": "2023-03-06T20:25:35.157Z"
   },
   {
    "duration": 3,
    "start_time": "2023-03-06T20:25:35.175Z"
   },
   {
    "duration": 17,
    "start_time": "2023-03-06T20:25:35.180Z"
   },
   {
    "duration": 16,
    "start_time": "2023-03-06T20:25:35.199Z"
   },
   {
    "duration": 23,
    "start_time": "2023-03-06T20:25:35.217Z"
   },
   {
    "duration": 11,
    "start_time": "2023-03-06T20:25:35.242Z"
   },
   {
    "duration": 154,
    "start_time": "2023-03-06T20:25:35.254Z"
   },
   {
    "duration": 11,
    "start_time": "2023-03-06T20:25:35.409Z"
   },
   {
    "duration": 20,
    "start_time": "2023-03-06T20:25:35.421Z"
   },
   {
    "duration": 291,
    "start_time": "2023-03-06T20:25:35.443Z"
   },
   {
    "duration": 1260,
    "start_time": "2023-03-06T20:25:35.735Z"
   },
   {
    "duration": 5,
    "start_time": "2023-03-06T20:25:36.996Z"
   },
   {
    "duration": 321,
    "start_time": "2023-03-06T20:25:37.002Z"
   },
   {
    "duration": 269,
    "start_time": "2023-03-06T20:25:37.324Z"
   },
   {
    "duration": 20,
    "start_time": "2023-03-06T20:25:37.594Z"
   },
   {
    "duration": 6,
    "start_time": "2023-03-06T20:25:37.615Z"
   },
   {
    "duration": 24,
    "start_time": "2023-03-06T20:25:37.623Z"
   },
   {
    "duration": 154,
    "start_time": "2023-03-06T20:25:37.649Z"
   },
   {
    "duration": 4,
    "start_time": "2023-03-06T20:25:37.805Z"
   },
   {
    "duration": 155,
    "start_time": "2023-03-06T20:25:37.811Z"
   },
   {
    "duration": 4,
    "start_time": "2023-03-06T20:25:37.968Z"
   },
   {
    "duration": 8,
    "start_time": "2023-03-06T20:25:37.973Z"
   },
   {
    "duration": 151,
    "start_time": "2023-03-06T20:25:37.984Z"
   },
   {
    "duration": 7,
    "start_time": "2023-03-06T20:25:38.136Z"
   },
   {
    "duration": 149,
    "start_time": "2023-03-06T20:25:38.144Z"
   },
   {
    "duration": 4,
    "start_time": "2023-03-06T20:25:38.295Z"
   },
   {
    "duration": 18,
    "start_time": "2023-03-06T20:25:38.300Z"
   },
   {
    "duration": 30,
    "start_time": "2023-03-06T20:25:38.319Z"
   },
   {
    "duration": 3,
    "start_time": "2023-03-06T20:25:38.351Z"
   },
   {
    "duration": 10,
    "start_time": "2023-03-06T20:25:38.355Z"
   },
   {
    "duration": 5,
    "start_time": "2023-03-06T20:25:38.366Z"
   },
   {
    "duration": 23,
    "start_time": "2023-03-06T20:25:48.620Z"
   },
   {
    "duration": 25,
    "start_time": "2023-03-06T20:26:02.680Z"
   },
   {
    "duration": 19,
    "start_time": "2023-03-06T20:26:28.619Z"
   },
   {
    "duration": 4,
    "start_time": "2023-03-06T20:26:39.541Z"
   },
   {
    "duration": 22,
    "start_time": "2023-03-06T20:26:51.529Z"
   },
   {
    "duration": 23,
    "start_time": "2023-03-06T20:27:15.126Z"
   },
   {
    "duration": 3,
    "start_time": "2023-03-06T20:28:03.011Z"
   },
   {
    "duration": 1092,
    "start_time": "2023-03-06T20:28:11.964Z"
   },
   {
    "duration": 65,
    "start_time": "2023-03-06T20:28:13.058Z"
   },
   {
    "duration": 13,
    "start_time": "2023-03-06T20:28:13.124Z"
   },
   {
    "duration": 28,
    "start_time": "2023-03-06T20:28:13.138Z"
   },
   {
    "duration": 3,
    "start_time": "2023-03-06T20:28:13.167Z"
   },
   {
    "duration": 5,
    "start_time": "2023-03-06T20:28:13.172Z"
   },
   {
    "duration": 9,
    "start_time": "2023-03-06T20:28:13.179Z"
   },
   {
    "duration": 8,
    "start_time": "2023-03-06T20:28:13.190Z"
   },
   {
    "duration": 6,
    "start_time": "2023-03-06T20:28:13.200Z"
   },
   {
    "duration": 33,
    "start_time": "2023-03-06T20:28:13.208Z"
   },
   {
    "duration": 3,
    "start_time": "2023-03-06T20:28:13.243Z"
   },
   {
    "duration": 8,
    "start_time": "2023-03-06T20:28:13.248Z"
   },
   {
    "duration": 9,
    "start_time": "2023-03-06T20:28:13.258Z"
   },
   {
    "duration": 8,
    "start_time": "2023-03-06T20:28:13.268Z"
   },
   {
    "duration": 5,
    "start_time": "2023-03-06T20:28:13.277Z"
   },
   {
    "duration": 4,
    "start_time": "2023-03-06T20:28:13.284Z"
   },
   {
    "duration": 8,
    "start_time": "2023-03-06T20:28:13.289Z"
   },
   {
    "duration": 7,
    "start_time": "2023-03-06T20:28:13.299Z"
   },
   {
    "duration": 33,
    "start_time": "2023-03-06T20:28:13.307Z"
   },
   {
    "duration": 4,
    "start_time": "2023-03-06T20:28:13.342Z"
   },
   {
    "duration": 16,
    "start_time": "2023-03-06T20:28:13.347Z"
   },
   {
    "duration": 15,
    "start_time": "2023-03-06T20:28:13.364Z"
   },
   {
    "duration": 12,
    "start_time": "2023-03-06T20:28:13.380Z"
   },
   {
    "duration": 8,
    "start_time": "2023-03-06T20:28:13.393Z"
   },
   {
    "duration": 183,
    "start_time": "2023-03-06T20:28:13.403Z"
   },
   {
    "duration": 10,
    "start_time": "2023-03-06T20:28:13.588Z"
   },
   {
    "duration": 28,
    "start_time": "2023-03-06T20:28:13.600Z"
   },
   {
    "duration": 305,
    "start_time": "2023-03-06T20:28:13.631Z"
   },
   {
    "duration": 1268,
    "start_time": "2023-03-06T20:28:13.940Z"
   },
   {
    "duration": 4,
    "start_time": "2023-03-06T20:28:15.210Z"
   },
   {
    "duration": 343,
    "start_time": "2023-03-06T20:28:15.216Z"
   },
   {
    "duration": 286,
    "start_time": "2023-03-06T20:28:15.561Z"
   },
   {
    "duration": 3,
    "start_time": "2023-03-06T20:28:15.848Z"
   },
   {
    "duration": 9,
    "start_time": "2023-03-06T20:28:15.853Z"
   },
   {
    "duration": 18,
    "start_time": "2023-03-06T20:28:15.863Z"
   },
   {
    "duration": 169,
    "start_time": "2023-03-06T20:28:15.883Z"
   },
   {
    "duration": 5,
    "start_time": "2023-03-06T20:28:16.053Z"
   },
   {
    "duration": 165,
    "start_time": "2023-03-06T20:28:16.059Z"
   },
   {
    "duration": 4,
    "start_time": "2023-03-06T20:28:16.226Z"
   },
   {
    "duration": 4,
    "start_time": "2023-03-06T20:28:16.240Z"
   },
   {
    "duration": 150,
    "start_time": "2023-03-06T20:28:16.246Z"
   },
   {
    "duration": 4,
    "start_time": "2023-03-06T20:28:16.398Z"
   },
   {
    "duration": 165,
    "start_time": "2023-03-06T20:28:16.404Z"
   },
   {
    "duration": 5,
    "start_time": "2023-03-06T20:28:16.571Z"
   },
   {
    "duration": 21,
    "start_time": "2023-03-06T20:28:16.577Z"
   },
   {
    "duration": 23,
    "start_time": "2023-03-06T20:28:16.599Z"
   },
   {
    "duration": 18,
    "start_time": "2023-03-06T20:28:16.624Z"
   },
   {
    "duration": 10,
    "start_time": "2023-03-06T20:28:16.643Z"
   },
   {
    "duration": 4,
    "start_time": "2023-03-06T20:29:56.309Z"
   },
   {
    "duration": 19,
    "start_time": "2023-03-06T20:30:03.812Z"
   },
   {
    "duration": 4,
    "start_time": "2023-03-06T20:31:01.821Z"
   },
   {
    "duration": 19,
    "start_time": "2023-03-06T20:31:18.207Z"
   },
   {
    "duration": 48,
    "start_time": "2023-03-06T20:34:19.865Z"
   },
   {
    "duration": 90,
    "start_time": "2023-03-06T20:34:24.092Z"
   },
   {
    "duration": 17,
    "start_time": "2023-03-06T20:34:33.107Z"
   },
   {
    "duration": 42,
    "start_time": "2023-03-06T20:37:29.113Z"
   },
   {
    "duration": 14,
    "start_time": "2023-03-06T20:37:34.133Z"
   },
   {
    "duration": 20,
    "start_time": "2023-03-06T20:38:16.813Z"
   },
   {
    "duration": 4,
    "start_time": "2023-03-06T20:43:55.022Z"
   },
   {
    "duration": 12,
    "start_time": "2023-03-06T20:45:35.122Z"
   },
   {
    "duration": 12,
    "start_time": "2023-03-06T20:45:41.107Z"
   },
   {
    "duration": 16,
    "start_time": "2023-03-06T20:46:05.797Z"
   },
   {
    "duration": 18,
    "start_time": "2023-03-06T21:04:50.339Z"
   },
   {
    "duration": 813,
    "start_time": "2023-03-06T21:12:19.121Z"
   },
   {
    "duration": 798,
    "start_time": "2023-03-06T21:12:31.118Z"
   },
   {
    "duration": 755,
    "start_time": "2023-03-06T21:14:44.075Z"
   },
   {
    "duration": 820,
    "start_time": "2023-03-06T21:15:21.137Z"
   },
   {
    "duration": 684,
    "start_time": "2023-03-06T21:17:28.214Z"
   },
   {
    "duration": 45,
    "start_time": "2023-03-06T22:04:20.980Z"
   },
   {
    "duration": 733,
    "start_time": "2023-03-06T22:04:30.402Z"
   },
   {
    "duration": 10,
    "start_time": "2023-03-06T22:12:36.823Z"
   },
   {
    "duration": 667,
    "start_time": "2023-03-06T22:12:41.655Z"
   },
   {
    "duration": 53,
    "start_time": "2023-03-08T21:35:55.467Z"
   },
   {
    "duration": 1380,
    "start_time": "2023-03-08T21:36:05.347Z"
   },
   {
    "duration": 108,
    "start_time": "2023-03-08T21:36:06.729Z"
   },
   {
    "duration": 14,
    "start_time": "2023-03-08T21:36:06.838Z"
   },
   {
    "duration": 27,
    "start_time": "2023-03-08T21:36:06.854Z"
   },
   {
    "duration": 3,
    "start_time": "2023-03-08T21:36:06.884Z"
   },
   {
    "duration": 9,
    "start_time": "2023-03-08T21:36:06.888Z"
   },
   {
    "duration": 22,
    "start_time": "2023-03-08T21:36:06.898Z"
   },
   {
    "duration": 22,
    "start_time": "2023-03-08T21:36:06.921Z"
   },
   {
    "duration": 7,
    "start_time": "2023-03-08T21:36:06.945Z"
   },
   {
    "duration": 15,
    "start_time": "2023-03-08T21:36:06.953Z"
   },
   {
    "duration": 3,
    "start_time": "2023-03-08T21:36:06.970Z"
   },
   {
    "duration": 24,
    "start_time": "2023-03-08T21:36:06.974Z"
   },
   {
    "duration": 8,
    "start_time": "2023-03-08T21:36:07.000Z"
   },
   {
    "duration": 13,
    "start_time": "2023-03-08T21:36:07.011Z"
   },
   {
    "duration": 14,
    "start_time": "2023-03-08T21:36:07.025Z"
   },
   {
    "duration": 7,
    "start_time": "2023-03-08T21:36:07.040Z"
   },
   {
    "duration": 10,
    "start_time": "2023-03-08T21:36:07.048Z"
   },
   {
    "duration": 9,
    "start_time": "2023-03-08T21:36:07.060Z"
   },
   {
    "duration": 17,
    "start_time": "2023-03-08T21:36:07.071Z"
   },
   {
    "duration": 6,
    "start_time": "2023-03-08T21:36:07.089Z"
   },
   {
    "duration": 22,
    "start_time": "2023-03-08T21:36:07.096Z"
   },
   {
    "duration": 20,
    "start_time": "2023-03-08T21:36:07.119Z"
   },
   {
    "duration": 12,
    "start_time": "2023-03-08T21:36:07.141Z"
   },
   {
    "duration": 27,
    "start_time": "2023-03-08T21:36:07.155Z"
   },
   {
    "duration": 147,
    "start_time": "2023-03-08T21:36:07.184Z"
   },
   {
    "duration": 9,
    "start_time": "2023-03-08T21:36:07.333Z"
   },
   {
    "duration": 14,
    "start_time": "2023-03-08T21:36:07.344Z"
   },
   {
    "duration": 295,
    "start_time": "2023-03-08T21:36:07.360Z"
   },
   {
    "duration": 1236,
    "start_time": "2023-03-08T21:36:07.656Z"
   },
   {
    "duration": 4,
    "start_time": "2023-03-08T21:36:08.894Z"
   },
   {
    "duration": 339,
    "start_time": "2023-03-08T21:36:08.899Z"
   },
   {
    "duration": 280,
    "start_time": "2023-03-08T21:36:09.240Z"
   },
   {
    "duration": 3,
    "start_time": "2023-03-08T21:36:09.521Z"
   },
   {
    "duration": 6,
    "start_time": "2023-03-08T21:36:09.526Z"
   },
   {
    "duration": 20,
    "start_time": "2023-03-08T21:36:09.534Z"
   },
   {
    "duration": 164,
    "start_time": "2023-03-08T21:36:09.556Z"
   },
   {
    "duration": 5,
    "start_time": "2023-03-08T21:36:09.721Z"
   },
   {
    "duration": 158,
    "start_time": "2023-03-08T21:36:09.727Z"
   },
   {
    "duration": 5,
    "start_time": "2023-03-08T21:36:09.886Z"
   },
   {
    "duration": 8,
    "start_time": "2023-03-08T21:36:09.892Z"
   },
   {
    "duration": 159,
    "start_time": "2023-03-08T21:36:09.904Z"
   },
   {
    "duration": 5,
    "start_time": "2023-03-08T21:36:10.064Z"
   },
   {
    "duration": 159,
    "start_time": "2023-03-08T21:36:10.079Z"
   },
   {
    "duration": 4,
    "start_time": "2023-03-08T21:36:10.240Z"
   },
   {
    "duration": 32,
    "start_time": "2023-03-08T21:36:10.246Z"
   },
   {
    "duration": 23,
    "start_time": "2023-03-08T21:36:10.279Z"
   },
   {
    "duration": 15,
    "start_time": "2023-03-08T21:36:10.303Z"
   },
   {
    "duration": 11,
    "start_time": "2023-03-08T21:36:10.320Z"
   },
   {
    "duration": 22,
    "start_time": "2023-03-08T21:36:10.332Z"
   },
   {
    "duration": 781,
    "start_time": "2023-03-08T21:36:10.355Z"
   },
   {
    "duration": 757,
    "start_time": "2023-03-08T21:36:11.138Z"
   },
   {
    "duration": 624,
    "start_time": "2023-03-08T21:36:11.897Z"
   },
   {
    "duration": 125,
    "start_time": "2023-03-08T21:36:12.523Z"
   },
   {
    "duration": 14,
    "start_time": "2023-03-08T21:36:53.982Z"
   },
   {
    "duration": 65,
    "start_time": "2023-03-08T21:39:41.773Z"
   },
   {
    "duration": 77,
    "start_time": "2023-03-08T21:40:00.916Z"
   },
   {
    "duration": 14,
    "start_time": "2023-03-08T21:40:12.629Z"
   },
   {
    "duration": 8,
    "start_time": "2023-03-08T21:41:21.971Z"
   },
   {
    "duration": 1311,
    "start_time": "2023-03-09T18:25:38.238Z"
   },
   {
    "duration": 114,
    "start_time": "2023-03-09T18:25:39.552Z"
   },
   {
    "duration": 14,
    "start_time": "2023-03-09T18:25:39.668Z"
   },
   {
    "duration": 38,
    "start_time": "2023-03-09T18:25:39.684Z"
   },
   {
    "duration": 4,
    "start_time": "2023-03-09T18:25:39.724Z"
   },
   {
    "duration": 5,
    "start_time": "2023-03-09T18:25:39.729Z"
   },
   {
    "duration": 10,
    "start_time": "2023-03-09T18:25:39.736Z"
   },
   {
    "duration": 10,
    "start_time": "2023-03-09T18:25:39.748Z"
   },
   {
    "duration": 4,
    "start_time": "2023-03-09T18:25:39.759Z"
   },
   {
    "duration": 22,
    "start_time": "2023-03-09T18:25:39.791Z"
   },
   {
    "duration": 4,
    "start_time": "2023-03-09T18:25:39.816Z"
   },
   {
    "duration": 9,
    "start_time": "2023-03-09T18:25:39.822Z"
   },
   {
    "duration": 8,
    "start_time": "2023-03-09T18:25:39.832Z"
   },
   {
    "duration": 7,
    "start_time": "2023-03-09T18:25:39.842Z"
   },
   {
    "duration": 8,
    "start_time": "2023-03-09T18:25:39.851Z"
   },
   {
    "duration": 5,
    "start_time": "2023-03-09T18:25:39.860Z"
   },
   {
    "duration": 36,
    "start_time": "2023-03-09T18:25:39.867Z"
   },
   {
    "duration": 6,
    "start_time": "2023-03-09T18:25:39.905Z"
   },
   {
    "duration": 19,
    "start_time": "2023-03-09T18:25:39.913Z"
   },
   {
    "duration": 5,
    "start_time": "2023-03-09T18:25:39.934Z"
   },
   {
    "duration": 20,
    "start_time": "2023-03-09T18:25:39.941Z"
   },
   {
    "duration": 39,
    "start_time": "2023-03-09T18:25:39.963Z"
   },
   {
    "duration": 15,
    "start_time": "2023-03-09T18:25:40.004Z"
   },
   {
    "duration": 9,
    "start_time": "2023-03-09T18:25:40.021Z"
   },
   {
    "duration": 186,
    "start_time": "2023-03-09T18:25:40.031Z"
   },
   {
    "duration": 11,
    "start_time": "2023-03-09T18:25:40.218Z"
   },
   {
    "duration": 10,
    "start_time": "2023-03-09T18:25:40.231Z"
   },
   {
    "duration": 356,
    "start_time": "2023-03-09T18:25:40.244Z"
   },
   {
    "duration": 1364,
    "start_time": "2023-03-09T18:25:40.604Z"
   },
   {
    "duration": 5,
    "start_time": "2023-03-09T18:25:41.970Z"
   },
   {
    "duration": 369,
    "start_time": "2023-03-09T18:25:41.977Z"
   },
   {
    "duration": 362,
    "start_time": "2023-03-09T18:25:42.348Z"
   },
   {
    "duration": 4,
    "start_time": "2023-03-09T18:25:42.711Z"
   },
   {
    "duration": 8,
    "start_time": "2023-03-09T18:25:42.716Z"
   },
   {
    "duration": 31,
    "start_time": "2023-03-09T18:25:42.726Z"
   },
   {
    "duration": 174,
    "start_time": "2023-03-09T18:25:42.759Z"
   },
   {
    "duration": 5,
    "start_time": "2023-03-09T18:25:42.935Z"
   },
   {
    "duration": 177,
    "start_time": "2023-03-09T18:25:42.942Z"
   },
   {
    "duration": 4,
    "start_time": "2023-03-09T18:25:43.121Z"
   },
   {
    "duration": 6,
    "start_time": "2023-03-09T18:25:43.127Z"
   },
   {
    "duration": 190,
    "start_time": "2023-03-09T18:25:43.135Z"
   },
   {
    "duration": 4,
    "start_time": "2023-03-09T18:25:43.327Z"
   },
   {
    "duration": 179,
    "start_time": "2023-03-09T18:25:43.333Z"
   },
   {
    "duration": 5,
    "start_time": "2023-03-09T18:25:43.513Z"
   },
   {
    "duration": 17,
    "start_time": "2023-03-09T18:25:43.520Z"
   },
   {
    "duration": 22,
    "start_time": "2023-03-09T18:25:43.538Z"
   },
   {
    "duration": 4,
    "start_time": "2023-03-09T18:25:43.561Z"
   },
   {
    "duration": 34,
    "start_time": "2023-03-09T18:25:43.566Z"
   },
   {
    "duration": 27,
    "start_time": "2023-03-09T18:25:43.602Z"
   },
   {
    "duration": 911,
    "start_time": "2023-03-09T18:25:43.631Z"
   },
   {
    "duration": 863,
    "start_time": "2023-03-09T18:25:44.544Z"
   },
   {
    "duration": 645,
    "start_time": "2023-03-09T18:25:45.409Z"
   },
   {
    "duration": 14,
    "start_time": "2023-03-09T18:25:46.056Z"
   },
   {
    "duration": 113,
    "start_time": "2023-03-09T18:25:46.072Z"
   },
   {
    "duration": 12,
    "start_time": "2023-03-09T18:27:30.315Z"
   },
   {
    "duration": 7,
    "start_time": "2023-03-09T18:27:58.048Z"
   },
   {
    "duration": 9,
    "start_time": "2023-03-09T18:28:28.655Z"
   },
   {
    "duration": 5,
    "start_time": "2023-03-09T18:29:41.725Z"
   },
   {
    "duration": 8,
    "start_time": "2023-03-09T18:30:09.679Z"
   },
   {
    "duration": 7,
    "start_time": "2023-03-09T18:30:14.020Z"
   },
   {
    "duration": 8,
    "start_time": "2023-03-09T18:30:38.106Z"
   },
   {
    "duration": 23,
    "start_time": "2023-03-09T18:30:50.918Z"
   },
   {
    "duration": 5,
    "start_time": "2023-03-09T18:32:15.458Z"
   },
   {
    "duration": 1403,
    "start_time": "2023-03-09T23:26:23.528Z"
   },
   {
    "duration": 125,
    "start_time": "2023-03-09T23:26:24.934Z"
   },
   {
    "duration": 17,
    "start_time": "2023-03-09T23:26:25.061Z"
   },
   {
    "duration": 35,
    "start_time": "2023-03-09T23:26:25.080Z"
   },
   {
    "duration": 4,
    "start_time": "2023-03-09T23:26:25.116Z"
   },
   {
    "duration": 18,
    "start_time": "2023-03-09T23:26:25.121Z"
   },
   {
    "duration": 21,
    "start_time": "2023-03-09T23:26:25.141Z"
   },
   {
    "duration": 9,
    "start_time": "2023-03-09T23:26:25.173Z"
   },
   {
    "duration": 4,
    "start_time": "2023-03-09T23:26:25.184Z"
   },
   {
    "duration": 15,
    "start_time": "2023-03-09T23:26:25.190Z"
   },
   {
    "duration": 5,
    "start_time": "2023-03-09T23:26:25.207Z"
   },
   {
    "duration": 25,
    "start_time": "2023-03-09T23:26:25.214Z"
   },
   {
    "duration": 34,
    "start_time": "2023-03-09T23:26:25.241Z"
   },
   {
    "duration": 9,
    "start_time": "2023-03-09T23:26:25.277Z"
   },
   {
    "duration": 6,
    "start_time": "2023-03-09T23:26:25.288Z"
   },
   {
    "duration": 6,
    "start_time": "2023-03-09T23:26:25.296Z"
   },
   {
    "duration": 9,
    "start_time": "2023-03-09T23:26:25.304Z"
   },
   {
    "duration": 6,
    "start_time": "2023-03-09T23:26:25.315Z"
   },
   {
    "duration": 16,
    "start_time": "2023-03-09T23:26:25.323Z"
   },
   {
    "duration": 5,
    "start_time": "2023-03-09T23:26:25.372Z"
   },
   {
    "duration": 18,
    "start_time": "2023-03-09T23:26:25.379Z"
   },
   {
    "duration": 18,
    "start_time": "2023-03-09T23:26:25.398Z"
   },
   {
    "duration": 15,
    "start_time": "2023-03-09T23:26:25.417Z"
   },
   {
    "duration": 8,
    "start_time": "2023-03-09T23:26:25.434Z"
   },
   {
    "duration": 201,
    "start_time": "2023-03-09T23:26:25.474Z"
   },
   {
    "duration": 12,
    "start_time": "2023-03-09T23:26:25.677Z"
   },
   {
    "duration": 10,
    "start_time": "2023-03-09T23:26:25.691Z"
   },
   {
    "duration": 369,
    "start_time": "2023-03-09T23:26:25.705Z"
   },
   {
    "duration": 1482,
    "start_time": "2023-03-09T23:26:26.076Z"
   },
   {
    "duration": 13,
    "start_time": "2023-03-09T23:26:27.560Z"
   },
   {
    "duration": 409,
    "start_time": "2023-03-09T23:26:27.575Z"
   },
   {
    "duration": 331,
    "start_time": "2023-03-09T23:26:27.986Z"
   },
   {
    "duration": 3,
    "start_time": "2023-03-09T23:26:28.319Z"
   },
   {
    "duration": 8,
    "start_time": "2023-03-09T23:26:28.324Z"
   },
   {
    "duration": 18,
    "start_time": "2023-03-09T23:26:28.333Z"
   },
   {
    "duration": 207,
    "start_time": "2023-03-09T23:26:28.353Z"
   },
   {
    "duration": 15,
    "start_time": "2023-03-09T23:26:28.562Z"
   },
   {
    "duration": 189,
    "start_time": "2023-03-09T23:26:28.579Z"
   },
   {
    "duration": 6,
    "start_time": "2023-03-09T23:26:28.772Z"
   },
   {
    "duration": 8,
    "start_time": "2023-03-09T23:26:28.780Z"
   },
   {
    "duration": 207,
    "start_time": "2023-03-09T23:26:28.789Z"
   },
   {
    "duration": 7,
    "start_time": "2023-03-09T23:26:28.998Z"
   },
   {
    "duration": 190,
    "start_time": "2023-03-09T23:26:29.008Z"
   },
   {
    "duration": 7,
    "start_time": "2023-03-09T23:26:29.201Z"
   },
   {
    "duration": 18,
    "start_time": "2023-03-09T23:26:29.210Z"
   },
   {
    "duration": 43,
    "start_time": "2023-03-09T23:26:29.230Z"
   },
   {
    "duration": 5,
    "start_time": "2023-03-09T23:26:29.275Z"
   },
   {
    "duration": 13,
    "start_time": "2023-03-09T23:26:29.282Z"
   },
   {
    "duration": 29,
    "start_time": "2023-03-09T23:26:29.297Z"
   },
   {
    "duration": 971,
    "start_time": "2023-03-09T23:26:29.328Z"
   },
   {
    "duration": 956,
    "start_time": "2023-03-09T23:26:30.301Z"
   },
   {
    "duration": 680,
    "start_time": "2023-03-09T23:26:31.259Z"
   },
   {
    "duration": 9,
    "start_time": "2023-03-09T23:26:31.941Z"
   },
   {
    "duration": 24,
    "start_time": "2023-03-09T23:26:31.952Z"
   },
   {
    "duration": 22,
    "start_time": "2023-03-09T23:26:31.978Z"
   },
   {
    "duration": 38,
    "start_time": "2023-03-09T23:26:32.003Z"
   },
   {
    "duration": 19,
    "start_time": "2023-03-09T23:26:32.043Z"
   },
   {
    "duration": 6,
    "start_time": "2023-03-09T23:27:49.140Z"
   },
   {
    "duration": 6,
    "start_time": "2023-03-09T23:28:24.661Z"
   },
   {
    "duration": 7,
    "start_time": "2023-03-09T23:28:45.215Z"
   },
   {
    "duration": 7,
    "start_time": "2023-03-09T23:29:19.675Z"
   },
   {
    "duration": 5,
    "start_time": "2023-03-09T23:30:03.259Z"
   },
   {
    "duration": 13,
    "start_time": "2023-03-09T23:30:10.939Z"
   },
   {
    "duration": 1240,
    "start_time": "2023-03-09T23:30:29.589Z"
   },
   {
    "duration": 8,
    "start_time": "2023-03-09T23:30:34.089Z"
   },
   {
    "duration": 12,
    "start_time": "2023-03-09T23:31:15.490Z"
   },
   {
    "duration": 8,
    "start_time": "2023-03-09T23:31:20.923Z"
   },
   {
    "duration": 6,
    "start_time": "2023-03-09T23:31:22.740Z"
   },
   {
    "duration": 8,
    "start_time": "2023-03-09T23:32:07.817Z"
   },
   {
    "duration": 6,
    "start_time": "2023-03-09T23:32:08.172Z"
   },
   {
    "duration": 17,
    "start_time": "2023-03-09T23:34:48.490Z"
   },
   {
    "duration": 7,
    "start_time": "2023-03-09T23:35:00.099Z"
   },
   {
    "duration": 5,
    "start_time": "2023-03-09T23:35:09.153Z"
   },
   {
    "duration": 11,
    "start_time": "2023-03-09T23:35:24.943Z"
   },
   {
    "duration": 7,
    "start_time": "2023-03-09T23:35:49.670Z"
   },
   {
    "duration": 8,
    "start_time": "2023-03-09T23:36:05.279Z"
   },
   {
    "duration": 7,
    "start_time": "2023-03-09T23:36:05.439Z"
   },
   {
    "duration": 1140,
    "start_time": "2023-03-10T07:35:51.607Z"
   },
   {
    "duration": 64,
    "start_time": "2023-03-10T07:35:52.750Z"
   },
   {
    "duration": 14,
    "start_time": "2023-03-10T07:35:52.816Z"
   },
   {
    "duration": 32,
    "start_time": "2023-03-10T07:35:52.831Z"
   },
   {
    "duration": 4,
    "start_time": "2023-03-10T07:35:52.866Z"
   },
   {
    "duration": 4,
    "start_time": "2023-03-10T07:35:52.872Z"
   },
   {
    "duration": 12,
    "start_time": "2023-03-10T07:35:52.878Z"
   },
   {
    "duration": 37,
    "start_time": "2023-03-10T07:35:52.892Z"
   },
   {
    "duration": 4,
    "start_time": "2023-03-10T07:35:52.932Z"
   },
   {
    "duration": 14,
    "start_time": "2023-03-10T07:35:52.938Z"
   },
   {
    "duration": 4,
    "start_time": "2023-03-10T07:35:52.954Z"
   },
   {
    "duration": 8,
    "start_time": "2023-03-10T07:35:52.960Z"
   },
   {
    "duration": 15,
    "start_time": "2023-03-10T07:35:52.969Z"
   },
   {
    "duration": 34,
    "start_time": "2023-03-10T07:35:52.987Z"
   },
   {
    "duration": 8,
    "start_time": "2023-03-10T07:35:53.023Z"
   },
   {
    "duration": 13,
    "start_time": "2023-03-10T07:35:53.033Z"
   },
   {
    "duration": 15,
    "start_time": "2023-03-10T07:35:53.048Z"
   },
   {
    "duration": 4,
    "start_time": "2023-03-10T07:35:53.065Z"
   },
   {
    "duration": 15,
    "start_time": "2023-03-10T07:35:53.070Z"
   },
   {
    "duration": 9,
    "start_time": "2023-03-10T07:35:53.087Z"
   },
   {
    "duration": 35,
    "start_time": "2023-03-10T07:35:53.098Z"
   },
   {
    "duration": 14,
    "start_time": "2023-03-10T07:35:53.135Z"
   },
   {
    "duration": 16,
    "start_time": "2023-03-10T07:35:53.151Z"
   },
   {
    "duration": 19,
    "start_time": "2023-03-10T07:35:53.168Z"
   },
   {
    "duration": 202,
    "start_time": "2023-03-10T07:35:53.189Z"
   },
   {
    "duration": 11,
    "start_time": "2023-03-10T07:35:53.393Z"
   },
   {
    "duration": 25,
    "start_time": "2023-03-10T07:35:53.406Z"
   },
   {
    "duration": 350,
    "start_time": "2023-03-10T07:35:53.433Z"
   },
   {
    "duration": 1444,
    "start_time": "2023-03-10T07:35:53.785Z"
   },
   {
    "duration": 5,
    "start_time": "2023-03-10T07:35:55.231Z"
   },
   {
    "duration": 361,
    "start_time": "2023-03-10T07:35:55.238Z"
   },
   {
    "duration": 316,
    "start_time": "2023-03-10T07:35:55.600Z"
   },
   {
    "duration": 3,
    "start_time": "2023-03-10T07:35:55.921Z"
   },
   {
    "duration": 7,
    "start_time": "2023-03-10T07:35:55.925Z"
   },
   {
    "duration": 16,
    "start_time": "2023-03-10T07:35:55.933Z"
   },
   {
    "duration": 176,
    "start_time": "2023-03-10T07:35:55.951Z"
   },
   {
    "duration": 5,
    "start_time": "2023-03-10T07:35:56.128Z"
   },
   {
    "duration": 170,
    "start_time": "2023-03-10T07:35:56.135Z"
   },
   {
    "duration": 14,
    "start_time": "2023-03-10T07:35:56.307Z"
   },
   {
    "duration": 5,
    "start_time": "2023-03-10T07:35:56.322Z"
   },
   {
    "duration": 166,
    "start_time": "2023-03-10T07:35:56.331Z"
   },
   {
    "duration": 6,
    "start_time": "2023-03-10T07:35:56.499Z"
   },
   {
    "duration": 171,
    "start_time": "2023-03-10T07:35:56.507Z"
   },
   {
    "duration": 5,
    "start_time": "2023-03-10T07:35:56.680Z"
   },
   {
    "duration": 25,
    "start_time": "2023-03-10T07:35:56.687Z"
   },
   {
    "duration": 22,
    "start_time": "2023-03-10T07:35:56.721Z"
   },
   {
    "duration": 3,
    "start_time": "2023-03-10T07:35:56.745Z"
   },
   {
    "duration": 15,
    "start_time": "2023-03-10T07:35:56.750Z"
   },
   {
    "duration": 24,
    "start_time": "2023-03-10T07:35:56.767Z"
   },
   {
    "duration": 886,
    "start_time": "2023-03-10T07:35:56.793Z"
   },
   {
    "duration": 860,
    "start_time": "2023-03-10T07:35:57.681Z"
   },
   {
    "duration": 629,
    "start_time": "2023-03-10T07:35:58.543Z"
   },
   {
    "duration": 7,
    "start_time": "2023-03-10T07:35:59.173Z"
   },
   {
    "duration": 8,
    "start_time": "2023-03-10T07:35:59.181Z"
   },
   {
    "duration": 6,
    "start_time": "2023-03-10T07:35:59.190Z"
   },
   {
    "duration": 24,
    "start_time": "2023-03-10T07:35:59.197Z"
   }
  ],
  "kernelspec": {
   "display_name": "Python 3 (ipykernel)",
   "language": "python",
   "name": "python3"
  },
  "language_info": {
   "codemirror_mode": {
    "name": "ipython",
    "version": 3
   },
   "file_extension": ".py",
   "mimetype": "text/x-python",
   "name": "python",
   "nbconvert_exporter": "python",
   "pygments_lexer": "ipython3",
   "version": "3.10.9"
  },
  "toc": {
   "base_numbering": 1,
   "nav_menu": {},
   "number_sections": true,
   "sideBar": true,
   "skip_h1_title": true,
   "title_cell": "Table of Contents",
   "title_sidebar": "Contents",
   "toc_cell": false,
   "toc_position": {},
   "toc_section_display": true,
   "toc_window_display": false
  }
 },
 "nbformat": 4,
 "nbformat_minor": 2
}
